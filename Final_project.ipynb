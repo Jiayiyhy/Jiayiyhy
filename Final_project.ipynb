{
 "cells": [
  {
   "cell_type": "markdown",
   "id": "8f6cfee3-1aec-4757-a628-103bc369ca72",
   "metadata": {},
   "source": [
    "## ECON323 Final Project \n",
    "### Jiayi Wu 49193634"
   ]
  },
  {
   "cell_type": "markdown",
   "id": "35d8ad09-b8a9-4c84-9f76-e617d83528cc",
   "metadata": {},
   "source": [
    "# China's Urbanization and Economic Development in the Past 20 Years\n",
    "China's urbanization is an important process affecting the world. \n",
    "Since the founding of China, the urban permanent population has increased from 170 million to 730 million, and the urbanization rate has increased from 17.9% to 63.89%. \n",
    "Rapid urbanization has propelled China's unprecedented economic and social transformation. More than 500 million people in China have been lifted out of poverty and the economy has achieved an average annual growth rate of 10%.\n",
    "\n",
    "China's urbanization is dominated by the pursuit of GDP growth. In order to do that, local governments invest in infrastructure and development zones, which in turn attract enterprises and employment. The agglomeration of economic activities and population brings greater fiscal and tax revenue to local governments, therefore local governments have more funds and incentives to invest in infrastructure and development zones. This process forms a virtuous circle.\n",
    "\n",
    "I will explore the development of China's urbanization in the past 20 years from the aspects of GDP, urban-rural population ratio, average income of urban-rural population, grain output, etc."
   ]
  },
  {
   "cell_type": "code",
   "execution_count": 91,
   "id": "97f98719-4f02-48e6-9407-1eaf67f51f77",
   "metadata": {},
   "outputs": [],
   "source": [
    "import numpy as np\n",
    "import pandas as pd\n",
    "import seaborn as sns\n",
    "import math\n",
    "import matplotlib.pyplot as plt\n",
    "import plotly.express as px\n",
    "from sklearn.utils import resample\n",
    "from sklearn.preprocessing import LabelEncoder\n",
    "from sklearn.preprocessing import StandardScaler\n",
    "from sklearn import (\n",
    "    linear_model, metrics, neural_network, pipeline, preprocessing, model_selection\n",
    ")\n",
    "\n",
    "%matplotlib inline\n",
    "colors = ['#a0eee1', '#ecad9e', '#66ccff', '#19caad', '#f4606c', '#bee7e9', '#b0c4de','#add8e6']"
   ]
  },
  {
   "cell_type": "code",
   "execution_count": 92,
   "id": "887a4179-e520-4984-ada6-78b4da0b638a",
   "metadata": {},
   "outputs": [
    {
     "data": {
      "text/html": [
       "<div>\n",
       "<style scoped>\n",
       "    .dataframe tbody tr th:only-of-type {\n",
       "        vertical-align: middle;\n",
       "    }\n",
       "\n",
       "    .dataframe tbody tr th {\n",
       "        vertical-align: top;\n",
       "    }\n",
       "\n",
       "    .dataframe thead th {\n",
       "        text-align: right;\n",
       "    }\n",
       "</style>\n",
       "<table border=\"1\" class=\"dataframe\">\n",
       "  <thead>\n",
       "    <tr style=\"text-align: right;\">\n",
       "      <th></th>\n",
       "      <th>Unnamed: 0</th>\n",
       "      <th>At the end of the total population (ten thousand people)</th>\n",
       "      <th>The male population (ten thousand people)</th>\n",
       "      <th>Female population (ten thousand people)</th>\n",
       "      <th>Urban population (ten thousand people)</th>\n",
       "      <th>Rural population (ten thousand people)</th>\n",
       "      <th>GDP(billion)</th>\n",
       "      <th>urbanization rate</th>\n",
       "      <th>Grain output (ten thousand tons)</th>\n",
       "      <th>The per capita grain(kg)</th>\n",
       "      <th>urban per capita disposable income</th>\n",
       "      <th>rural per capita disposable income</th>\n",
       "      <th>Urban and rural income ratio</th>\n",
       "    </tr>\n",
       "  </thead>\n",
       "  <tbody>\n",
       "    <tr>\n",
       "      <th>0</th>\n",
       "      <td>2020</td>\n",
       "      <td>141212</td>\n",
       "      <td>72357</td>\n",
       "      <td>68855</td>\n",
       "      <td>90220</td>\n",
       "      <td>50992</td>\n",
       "      <td>147727.31</td>\n",
       "      <td>63.89</td>\n",
       "      <td>66949.0</td>\n",
       "      <td>474.00</td>\n",
       "      <td>43834.0</td>\n",
       "      <td>17131.0</td>\n",
       "      <td>2.56</td>\n",
       "    </tr>\n",
       "    <tr>\n",
       "      <th>1</th>\n",
       "      <td>2019</td>\n",
       "      <td>141008</td>\n",
       "      <td>72039</td>\n",
       "      <td>68969</td>\n",
       "      <td>88426</td>\n",
       "      <td>52582</td>\n",
       "      <td>142799.37</td>\n",
       "      <td>60.00</td>\n",
       "      <td>66384.0</td>\n",
       "      <td>474.95</td>\n",
       "      <td>42359.0</td>\n",
       "      <td>16021.0</td>\n",
       "      <td>2.64</td>\n",
       "    </tr>\n",
       "    <tr>\n",
       "      <th>2</th>\n",
       "      <td>2018</td>\n",
       "      <td>140541</td>\n",
       "      <td>71864</td>\n",
       "      <td>68677</td>\n",
       "      <td>86433</td>\n",
       "      <td>54108</td>\n",
       "      <td>136051.28</td>\n",
       "      <td>59.58</td>\n",
       "      <td>65789.0</td>\n",
       "      <td>472.00</td>\n",
       "      <td>39251.0</td>\n",
       "      <td>14617.0</td>\n",
       "      <td>2.69</td>\n",
       "    </tr>\n",
       "    <tr>\n",
       "      <th>3</th>\n",
       "      <td>2017</td>\n",
       "      <td>140011</td>\n",
       "      <td>71650</td>\n",
       "      <td>68361</td>\n",
       "      <td>84343</td>\n",
       "      <td>55668</td>\n",
       "      <td>127666.85</td>\n",
       "      <td>58.52</td>\n",
       "      <td>66160.0</td>\n",
       "      <td>467.00</td>\n",
       "      <td>36396.0</td>\n",
       "      <td>13432.0</td>\n",
       "      <td>2.71</td>\n",
       "    </tr>\n",
       "    <tr>\n",
       "      <th>4</th>\n",
       "      <td>2016</td>\n",
       "      <td>139232</td>\n",
       "      <td>71307</td>\n",
       "      <td>67925</td>\n",
       "      <td>81924</td>\n",
       "      <td>57308</td>\n",
       "      <td>119486.96</td>\n",
       "      <td>57.35</td>\n",
       "      <td>61624.0</td>\n",
       "      <td>445.70</td>\n",
       "      <td>33616.0</td>\n",
       "      <td>12363.0</td>\n",
       "      <td>2.72</td>\n",
       "    </tr>\n",
       "    <tr>\n",
       "      <th>5</th>\n",
       "      <td>2015</td>\n",
       "      <td>138326</td>\n",
       "      <td>70857</td>\n",
       "      <td>67469</td>\n",
       "      <td>79302</td>\n",
       "      <td>59024</td>\n",
       "      <td>111994.63</td>\n",
       "      <td>56.10</td>\n",
       "      <td>62144.0</td>\n",
       "      <td>452.10</td>\n",
       "      <td>31195.0</td>\n",
       "      <td>11422.0</td>\n",
       "      <td>2.73</td>\n",
       "    </tr>\n",
       "    <tr>\n",
       "      <th>6</th>\n",
       "      <td>2014</td>\n",
       "      <td>137646</td>\n",
       "      <td>70522</td>\n",
       "      <td>67124</td>\n",
       "      <td>76738</td>\n",
       "      <td>60908</td>\n",
       "      <td>104765.60</td>\n",
       "      <td>54.77</td>\n",
       "      <td>60703.0</td>\n",
       "      <td>443.80</td>\n",
       "      <td>28844.0</td>\n",
       "      <td>10489.0</td>\n",
       "      <td>2.75</td>\n",
       "    </tr>\n",
       "    <tr>\n",
       "      <th>7</th>\n",
       "      <td>2013</td>\n",
       "      <td>136726</td>\n",
       "      <td>70063</td>\n",
       "      <td>66663</td>\n",
       "      <td>74502</td>\n",
       "      <td>62224</td>\n",
       "      <td>97640.15</td>\n",
       "      <td>53.73</td>\n",
       "      <td>60194.0</td>\n",
       "      <td>442.40</td>\n",
       "      <td>26955.0</td>\n",
       "      <td>8896.0</td>\n",
       "      <td>3.03</td>\n",
       "    </tr>\n",
       "    <tr>\n",
       "      <th>8</th>\n",
       "      <td>2012</td>\n",
       "      <td>135922</td>\n",
       "      <td>69660</td>\n",
       "      <td>66262</td>\n",
       "      <td>72175</td>\n",
       "      <td>63747</td>\n",
       "      <td>90610.89</td>\n",
       "      <td>52.57</td>\n",
       "      <td>58957.0</td>\n",
       "      <td>435.40</td>\n",
       "      <td>24565.0</td>\n",
       "      <td>7917.0</td>\n",
       "      <td>3.10</td>\n",
       "    </tr>\n",
       "    <tr>\n",
       "      <th>9</th>\n",
       "      <td>2011</td>\n",
       "      <td>134916</td>\n",
       "      <td>69161</td>\n",
       "      <td>65755</td>\n",
       "      <td>69927</td>\n",
       "      <td>64989</td>\n",
       "      <td>84010.78</td>\n",
       "      <td>51.27</td>\n",
       "      <td>57121.0</td>\n",
       "      <td>424.00</td>\n",
       "      <td>21810.0</td>\n",
       "      <td>6977.0</td>\n",
       "      <td>3.13</td>\n",
       "    </tr>\n",
       "    <tr>\n",
       "      <th>10</th>\n",
       "      <td>2010</td>\n",
       "      <td>134091</td>\n",
       "      <td>68748</td>\n",
       "      <td>65343</td>\n",
       "      <td>66978</td>\n",
       "      <td>67113</td>\n",
       "      <td>76696.65</td>\n",
       "      <td>49.95</td>\n",
       "      <td>54648.0</td>\n",
       "      <td>407.50</td>\n",
       "      <td>19109.0</td>\n",
       "      <td>5919.0</td>\n",
       "      <td>3.23</td>\n",
       "    </tr>\n",
       "    <tr>\n",
       "      <th>11</th>\n",
       "      <td>2009</td>\n",
       "      <td>133450</td>\n",
       "      <td>68647</td>\n",
       "      <td>64803</td>\n",
       "      <td>64512</td>\n",
       "      <td>68938</td>\n",
       "      <td>69323.32</td>\n",
       "      <td>46.59</td>\n",
       "      <td>53082.0</td>\n",
       "      <td>397.70</td>\n",
       "      <td>17175.0</td>\n",
       "      <td>5153.0</td>\n",
       "      <td>3.33</td>\n",
       "    </tr>\n",
       "    <tr>\n",
       "      <th>12</th>\n",
       "      <td>2008</td>\n",
       "      <td>132802</td>\n",
       "      <td>68357</td>\n",
       "      <td>64445</td>\n",
       "      <td>62403</td>\n",
       "      <td>70399</td>\n",
       "      <td>63366.95</td>\n",
       "      <td>45.68</td>\n",
       "      <td>52871.0</td>\n",
       "      <td>398.00</td>\n",
       "      <td>15781.0</td>\n",
       "      <td>4761.0</td>\n",
       "      <td>3.31</td>\n",
       "    </tr>\n",
       "    <tr>\n",
       "      <th>13</th>\n",
       "      <td>2007</td>\n",
       "      <td>132129</td>\n",
       "      <td>68048</td>\n",
       "      <td>64081</td>\n",
       "      <td>60633</td>\n",
       "      <td>71496</td>\n",
       "      <td>57787.93</td>\n",
       "      <td>44.94</td>\n",
       "      <td>50160.0</td>\n",
       "      <td>379.60</td>\n",
       "      <td>13786.0</td>\n",
       "      <td>4140.0</td>\n",
       "      <td>3.33</td>\n",
       "    </tr>\n",
       "    <tr>\n",
       "      <th>14</th>\n",
       "      <td>2006</td>\n",
       "      <td>131448</td>\n",
       "      <td>67728</td>\n",
       "      <td>63720</td>\n",
       "      <td>58288</td>\n",
       "      <td>73160</td>\n",
       "      <td>50588.49</td>\n",
       "      <td>43.90</td>\n",
       "      <td>49804.0</td>\n",
       "      <td>378.40</td>\n",
       "      <td>11759.0</td>\n",
       "      <td>3587.0</td>\n",
       "      <td>3.28</td>\n",
       "    </tr>\n",
       "    <tr>\n",
       "      <th>15</th>\n",
       "      <td>2005</td>\n",
       "      <td>130756</td>\n",
       "      <td>67375</td>\n",
       "      <td>63381</td>\n",
       "      <td>56212</td>\n",
       "      <td>74544</td>\n",
       "      <td>44879.99</td>\n",
       "      <td>42.99</td>\n",
       "      <td>48402.0</td>\n",
       "      <td>370.20</td>\n",
       "      <td>10493.0</td>\n",
       "      <td>3255.0</td>\n",
       "      <td>3.22</td>\n",
       "    </tr>\n",
       "    <tr>\n",
       "      <th>16</th>\n",
       "      <td>2004</td>\n",
       "      <td>129988</td>\n",
       "      <td>66976</td>\n",
       "      <td>63012</td>\n",
       "      <td>54283</td>\n",
       "      <td>75705</td>\n",
       "      <td>40288.77</td>\n",
       "      <td>41.76</td>\n",
       "      <td>46947.0</td>\n",
       "      <td>361.20</td>\n",
       "      <td>9422.0</td>\n",
       "      <td>2936.0</td>\n",
       "      <td>3.21</td>\n",
       "    </tr>\n",
       "    <tr>\n",
       "      <th>17</th>\n",
       "      <td>2003</td>\n",
       "      <td>129227</td>\n",
       "      <td>66556</td>\n",
       "      <td>62671</td>\n",
       "      <td>52376</td>\n",
       "      <td>76851</td>\n",
       "      <td>36589.16</td>\n",
       "      <td>40.53</td>\n",
       "      <td>43070.0</td>\n",
       "      <td>333.30</td>\n",
       "      <td>8472.0</td>\n",
       "      <td>2622.0</td>\n",
       "      <td>3.23</td>\n",
       "    </tr>\n",
       "    <tr>\n",
       "      <th>18</th>\n",
       "      <td>2002</td>\n",
       "      <td>128453</td>\n",
       "      <td>66115</td>\n",
       "      <td>62338</td>\n",
       "      <td>50212</td>\n",
       "      <td>78241</td>\n",
       "      <td>33252.11</td>\n",
       "      <td>39.09</td>\n",
       "      <td>45711.0</td>\n",
       "      <td>355.90</td>\n",
       "      <td>7703.0</td>\n",
       "      <td>2476.0</td>\n",
       "      <td>3.11</td>\n",
       "    </tr>\n",
       "    <tr>\n",
       "      <th>19</th>\n",
       "      <td>2001</td>\n",
       "      <td>127627</td>\n",
       "      <td>65672</td>\n",
       "      <td>61955</td>\n",
       "      <td>48064</td>\n",
       "      <td>79563</td>\n",
       "      <td>30470.00</td>\n",
       "      <td>37.66</td>\n",
       "      <td>45262.0</td>\n",
       "      <td>354.60</td>\n",
       "      <td>6860.0</td>\n",
       "      <td>2366.0</td>\n",
       "      <td>2.90</td>\n",
       "    </tr>\n",
       "  </tbody>\n",
       "</table>\n",
       "</div>"
      ],
      "text/plain": [
       "    Unnamed: 0  At the end of the total population (ten thousand people)  \\\n",
       "0         2020                                             141212          \n",
       "1         2019                                             141008          \n",
       "2         2018                                             140541          \n",
       "3         2017                                             140011          \n",
       "4         2016                                             139232          \n",
       "5         2015                                             138326          \n",
       "6         2014                                             137646          \n",
       "7         2013                                             136726          \n",
       "8         2012                                             135922          \n",
       "9         2011                                             134916          \n",
       "10        2010                                             134091          \n",
       "11        2009                                             133450          \n",
       "12        2008                                             132802          \n",
       "13        2007                                             132129          \n",
       "14        2006                                             131448          \n",
       "15        2005                                             130756          \n",
       "16        2004                                             129988          \n",
       "17        2003                                             129227          \n",
       "18        2002                                             128453          \n",
       "19        2001                                             127627          \n",
       "\n",
       "    The male population (ten thousand people)  \\\n",
       "0                                       72357   \n",
       "1                                       72039   \n",
       "2                                       71864   \n",
       "3                                       71650   \n",
       "4                                       71307   \n",
       "5                                       70857   \n",
       "6                                       70522   \n",
       "7                                       70063   \n",
       "8                                       69660   \n",
       "9                                       69161   \n",
       "10                                      68748   \n",
       "11                                      68647   \n",
       "12                                      68357   \n",
       "13                                      68048   \n",
       "14                                      67728   \n",
       "15                                      67375   \n",
       "16                                      66976   \n",
       "17                                      66556   \n",
       "18                                      66115   \n",
       "19                                      65672   \n",
       "\n",
       "    Female population (ten thousand people)  \\\n",
       "0                                     68855   \n",
       "1                                     68969   \n",
       "2                                     68677   \n",
       "3                                     68361   \n",
       "4                                     67925   \n",
       "5                                     67469   \n",
       "6                                     67124   \n",
       "7                                     66663   \n",
       "8                                     66262   \n",
       "9                                     65755   \n",
       "10                                    65343   \n",
       "11                                    64803   \n",
       "12                                    64445   \n",
       "13                                    64081   \n",
       "14                                    63720   \n",
       "15                                    63381   \n",
       "16                                    63012   \n",
       "17                                    62671   \n",
       "18                                    62338   \n",
       "19                                    61955   \n",
       "\n",
       "    Urban population (ten thousand people)  \\\n",
       "0                                    90220   \n",
       "1                                    88426   \n",
       "2                                    86433   \n",
       "3                                    84343   \n",
       "4                                    81924   \n",
       "5                                    79302   \n",
       "6                                    76738   \n",
       "7                                    74502   \n",
       "8                                    72175   \n",
       "9                                    69927   \n",
       "10                                   66978   \n",
       "11                                   64512   \n",
       "12                                   62403   \n",
       "13                                   60633   \n",
       "14                                   58288   \n",
       "15                                   56212   \n",
       "16                                   54283   \n",
       "17                                   52376   \n",
       "18                                   50212   \n",
       "19                                   48064   \n",
       "\n",
       "    Rural population (ten thousand people)  GDP(billion)  urbanization rate  \\\n",
       "0                                    50992     147727.31              63.89   \n",
       "1                                    52582     142799.37              60.00   \n",
       "2                                    54108     136051.28              59.58   \n",
       "3                                    55668     127666.85              58.52   \n",
       "4                                    57308     119486.96              57.35   \n",
       "5                                    59024     111994.63              56.10   \n",
       "6                                    60908     104765.60              54.77   \n",
       "7                                    62224      97640.15              53.73   \n",
       "8                                    63747      90610.89              52.57   \n",
       "9                                    64989      84010.78              51.27   \n",
       "10                                   67113      76696.65              49.95   \n",
       "11                                   68938      69323.32              46.59   \n",
       "12                                   70399      63366.95              45.68   \n",
       "13                                   71496      57787.93              44.94   \n",
       "14                                   73160      50588.49              43.90   \n",
       "15                                   74544      44879.99              42.99   \n",
       "16                                   75705      40288.77              41.76   \n",
       "17                                   76851      36589.16              40.53   \n",
       "18                                   78241      33252.11              39.09   \n",
       "19                                   79563      30470.00              37.66   \n",
       "\n",
       "    Grain output (ten thousand tons)  The per capita grain(kg)  \\\n",
       "0                            66949.0                    474.00   \n",
       "1                            66384.0                    474.95   \n",
       "2                            65789.0                    472.00   \n",
       "3                            66160.0                    467.00   \n",
       "4                            61624.0                    445.70   \n",
       "5                            62144.0                    452.10   \n",
       "6                            60703.0                    443.80   \n",
       "7                            60194.0                    442.40   \n",
       "8                            58957.0                    435.40   \n",
       "9                            57121.0                    424.00   \n",
       "10                           54648.0                    407.50   \n",
       "11                           53082.0                    397.70   \n",
       "12                           52871.0                    398.00   \n",
       "13                           50160.0                    379.60   \n",
       "14                           49804.0                    378.40   \n",
       "15                           48402.0                    370.20   \n",
       "16                           46947.0                    361.20   \n",
       "17                           43070.0                    333.30   \n",
       "18                           45711.0                    355.90   \n",
       "19                           45262.0                    354.60   \n",
       "\n",
       "    urban per capita disposable income  rural per capita disposable income  \\\n",
       "0                              43834.0                             17131.0   \n",
       "1                              42359.0                             16021.0   \n",
       "2                              39251.0                             14617.0   \n",
       "3                              36396.0                             13432.0   \n",
       "4                              33616.0                             12363.0   \n",
       "5                              31195.0                             11422.0   \n",
       "6                              28844.0                             10489.0   \n",
       "7                              26955.0                              8896.0   \n",
       "8                              24565.0                              7917.0   \n",
       "9                              21810.0                              6977.0   \n",
       "10                             19109.0                              5919.0   \n",
       "11                             17175.0                              5153.0   \n",
       "12                             15781.0                              4761.0   \n",
       "13                             13786.0                              4140.0   \n",
       "14                             11759.0                              3587.0   \n",
       "15                             10493.0                              3255.0   \n",
       "16                              9422.0                              2936.0   \n",
       "17                              8472.0                              2622.0   \n",
       "18                              7703.0                              2476.0   \n",
       "19                              6860.0                              2366.0   \n",
       "\n",
       "    Urban and rural income ratio  \n",
       "0                           2.56  \n",
       "1                           2.64  \n",
       "2                           2.69  \n",
       "3                           2.71  \n",
       "4                           2.72  \n",
       "5                           2.73  \n",
       "6                           2.75  \n",
       "7                           3.03  \n",
       "8                           3.10  \n",
       "9                           3.13  \n",
       "10                          3.23  \n",
       "11                          3.33  \n",
       "12                          3.31  \n",
       "13                          3.33  \n",
       "14                          3.28  \n",
       "15                          3.22  \n",
       "16                          3.21  \n",
       "17                          3.23  \n",
       "18                          3.11  \n",
       "19                          2.90  "
      ]
     },
     "execution_count": 92,
     "metadata": {},
     "output_type": "execute_result"
    }
   ],
   "source": [
    "df = pd.read_csv(\"https://raw.githubusercontent.com/Jiayiyhy/Jiayiyhy/main/Chinas_Population_EnNew1.csv\")\n",
    "df.head(20)\n",
    "# I found relevant data from multiple websites and integrated them together. The reference websites are:\n",
    "# https://www.kaggle.com/datasets/concyclics/chinas-population-by-gender-and-urbanrural?select=Chinas+Population+En.csv\n",
    "# https://www.statista.com/statistics/731246/china-structure-of-consumption-expenditure-per-capita/\n",
    "# https://www.statista.com/statistics/1088173/china-urbanization-rate-by-region-province/\n",
    "# https://data.stats.gov.cn/"
   ]
  },
  {
   "cell_type": "code",
   "execution_count": 93,
   "id": "a346eb90-b6ea-4565-8bea-bc6e67138ea2",
   "metadata": {},
   "outputs": [
    {
     "data": {
      "text/html": [
       "<div>\n",
       "<style scoped>\n",
       "    .dataframe tbody tr th:only-of-type {\n",
       "        vertical-align: middle;\n",
       "    }\n",
       "\n",
       "    .dataframe tbody tr th {\n",
       "        vertical-align: top;\n",
       "    }\n",
       "\n",
       "    .dataframe thead th {\n",
       "        text-align: right;\n",
       "    }\n",
       "</style>\n",
       "<table border=\"1\" class=\"dataframe\">\n",
       "  <thead>\n",
       "    <tr style=\"text-align: right;\">\n",
       "      <th></th>\n",
       "      <th>year</th>\n",
       "      <th>total</th>\n",
       "      <th>male</th>\n",
       "      <th>female</th>\n",
       "      <th>urban</th>\n",
       "      <th>rural</th>\n",
       "      <th>GDP</th>\n",
       "      <th>urbanrate</th>\n",
       "      <th>Grain</th>\n",
       "      <th>grain</th>\n",
       "      <th>uincome</th>\n",
       "      <th>rincome</th>\n",
       "      <th>incomeratio</th>\n",
       "    </tr>\n",
       "  </thead>\n",
       "  <tbody>\n",
       "    <tr>\n",
       "      <th>0</th>\n",
       "      <td>2020</td>\n",
       "      <td>141212</td>\n",
       "      <td>72357</td>\n",
       "      <td>68855</td>\n",
       "      <td>90220</td>\n",
       "      <td>50992</td>\n",
       "      <td>147727.31</td>\n",
       "      <td>63.89</td>\n",
       "      <td>66949.0</td>\n",
       "      <td>474.00</td>\n",
       "      <td>43834.0</td>\n",
       "      <td>17131.0</td>\n",
       "      <td>2.56</td>\n",
       "    </tr>\n",
       "    <tr>\n",
       "      <th>1</th>\n",
       "      <td>2019</td>\n",
       "      <td>141008</td>\n",
       "      <td>72039</td>\n",
       "      <td>68969</td>\n",
       "      <td>88426</td>\n",
       "      <td>52582</td>\n",
       "      <td>142799.37</td>\n",
       "      <td>60.00</td>\n",
       "      <td>66384.0</td>\n",
       "      <td>474.95</td>\n",
       "      <td>42359.0</td>\n",
       "      <td>16021.0</td>\n",
       "      <td>2.64</td>\n",
       "    </tr>\n",
       "    <tr>\n",
       "      <th>2</th>\n",
       "      <td>2018</td>\n",
       "      <td>140541</td>\n",
       "      <td>71864</td>\n",
       "      <td>68677</td>\n",
       "      <td>86433</td>\n",
       "      <td>54108</td>\n",
       "      <td>136051.28</td>\n",
       "      <td>59.58</td>\n",
       "      <td>65789.0</td>\n",
       "      <td>472.00</td>\n",
       "      <td>39251.0</td>\n",
       "      <td>14617.0</td>\n",
       "      <td>2.69</td>\n",
       "    </tr>\n",
       "    <tr>\n",
       "      <th>3</th>\n",
       "      <td>2017</td>\n",
       "      <td>140011</td>\n",
       "      <td>71650</td>\n",
       "      <td>68361</td>\n",
       "      <td>84343</td>\n",
       "      <td>55668</td>\n",
       "      <td>127666.85</td>\n",
       "      <td>58.52</td>\n",
       "      <td>66160.0</td>\n",
       "      <td>467.00</td>\n",
       "      <td>36396.0</td>\n",
       "      <td>13432.0</td>\n",
       "      <td>2.71</td>\n",
       "    </tr>\n",
       "    <tr>\n",
       "      <th>4</th>\n",
       "      <td>2016</td>\n",
       "      <td>139232</td>\n",
       "      <td>71307</td>\n",
       "      <td>67925</td>\n",
       "      <td>81924</td>\n",
       "      <td>57308</td>\n",
       "      <td>119486.96</td>\n",
       "      <td>57.35</td>\n",
       "      <td>61624.0</td>\n",
       "      <td>445.70</td>\n",
       "      <td>33616.0</td>\n",
       "      <td>12363.0</td>\n",
       "      <td>2.72</td>\n",
       "    </tr>\n",
       "    <tr>\n",
       "      <th>5</th>\n",
       "      <td>2015</td>\n",
       "      <td>138326</td>\n",
       "      <td>70857</td>\n",
       "      <td>67469</td>\n",
       "      <td>79302</td>\n",
       "      <td>59024</td>\n",
       "      <td>111994.63</td>\n",
       "      <td>56.10</td>\n",
       "      <td>62144.0</td>\n",
       "      <td>452.10</td>\n",
       "      <td>31195.0</td>\n",
       "      <td>11422.0</td>\n",
       "      <td>2.73</td>\n",
       "    </tr>\n",
       "    <tr>\n",
       "      <th>6</th>\n",
       "      <td>2014</td>\n",
       "      <td>137646</td>\n",
       "      <td>70522</td>\n",
       "      <td>67124</td>\n",
       "      <td>76738</td>\n",
       "      <td>60908</td>\n",
       "      <td>104765.60</td>\n",
       "      <td>54.77</td>\n",
       "      <td>60703.0</td>\n",
       "      <td>443.80</td>\n",
       "      <td>28844.0</td>\n",
       "      <td>10489.0</td>\n",
       "      <td>2.75</td>\n",
       "    </tr>\n",
       "    <tr>\n",
       "      <th>7</th>\n",
       "      <td>2013</td>\n",
       "      <td>136726</td>\n",
       "      <td>70063</td>\n",
       "      <td>66663</td>\n",
       "      <td>74502</td>\n",
       "      <td>62224</td>\n",
       "      <td>97640.15</td>\n",
       "      <td>53.73</td>\n",
       "      <td>60194.0</td>\n",
       "      <td>442.40</td>\n",
       "      <td>26955.0</td>\n",
       "      <td>8896.0</td>\n",
       "      <td>3.03</td>\n",
       "    </tr>\n",
       "    <tr>\n",
       "      <th>8</th>\n",
       "      <td>2012</td>\n",
       "      <td>135922</td>\n",
       "      <td>69660</td>\n",
       "      <td>66262</td>\n",
       "      <td>72175</td>\n",
       "      <td>63747</td>\n",
       "      <td>90610.89</td>\n",
       "      <td>52.57</td>\n",
       "      <td>58957.0</td>\n",
       "      <td>435.40</td>\n",
       "      <td>24565.0</td>\n",
       "      <td>7917.0</td>\n",
       "      <td>3.10</td>\n",
       "    </tr>\n",
       "    <tr>\n",
       "      <th>9</th>\n",
       "      <td>2011</td>\n",
       "      <td>134916</td>\n",
       "      <td>69161</td>\n",
       "      <td>65755</td>\n",
       "      <td>69927</td>\n",
       "      <td>64989</td>\n",
       "      <td>84010.78</td>\n",
       "      <td>51.27</td>\n",
       "      <td>57121.0</td>\n",
       "      <td>424.00</td>\n",
       "      <td>21810.0</td>\n",
       "      <td>6977.0</td>\n",
       "      <td>3.13</td>\n",
       "    </tr>\n",
       "    <tr>\n",
       "      <th>10</th>\n",
       "      <td>2010</td>\n",
       "      <td>134091</td>\n",
       "      <td>68748</td>\n",
       "      <td>65343</td>\n",
       "      <td>66978</td>\n",
       "      <td>67113</td>\n",
       "      <td>76696.65</td>\n",
       "      <td>49.95</td>\n",
       "      <td>54648.0</td>\n",
       "      <td>407.50</td>\n",
       "      <td>19109.0</td>\n",
       "      <td>5919.0</td>\n",
       "      <td>3.23</td>\n",
       "    </tr>\n",
       "    <tr>\n",
       "      <th>11</th>\n",
       "      <td>2009</td>\n",
       "      <td>133450</td>\n",
       "      <td>68647</td>\n",
       "      <td>64803</td>\n",
       "      <td>64512</td>\n",
       "      <td>68938</td>\n",
       "      <td>69323.32</td>\n",
       "      <td>46.59</td>\n",
       "      <td>53082.0</td>\n",
       "      <td>397.70</td>\n",
       "      <td>17175.0</td>\n",
       "      <td>5153.0</td>\n",
       "      <td>3.33</td>\n",
       "    </tr>\n",
       "    <tr>\n",
       "      <th>12</th>\n",
       "      <td>2008</td>\n",
       "      <td>132802</td>\n",
       "      <td>68357</td>\n",
       "      <td>64445</td>\n",
       "      <td>62403</td>\n",
       "      <td>70399</td>\n",
       "      <td>63366.95</td>\n",
       "      <td>45.68</td>\n",
       "      <td>52871.0</td>\n",
       "      <td>398.00</td>\n",
       "      <td>15781.0</td>\n",
       "      <td>4761.0</td>\n",
       "      <td>3.31</td>\n",
       "    </tr>\n",
       "    <tr>\n",
       "      <th>13</th>\n",
       "      <td>2007</td>\n",
       "      <td>132129</td>\n",
       "      <td>68048</td>\n",
       "      <td>64081</td>\n",
       "      <td>60633</td>\n",
       "      <td>71496</td>\n",
       "      <td>57787.93</td>\n",
       "      <td>44.94</td>\n",
       "      <td>50160.0</td>\n",
       "      <td>379.60</td>\n",
       "      <td>13786.0</td>\n",
       "      <td>4140.0</td>\n",
       "      <td>3.33</td>\n",
       "    </tr>\n",
       "    <tr>\n",
       "      <th>14</th>\n",
       "      <td>2006</td>\n",
       "      <td>131448</td>\n",
       "      <td>67728</td>\n",
       "      <td>63720</td>\n",
       "      <td>58288</td>\n",
       "      <td>73160</td>\n",
       "      <td>50588.49</td>\n",
       "      <td>43.90</td>\n",
       "      <td>49804.0</td>\n",
       "      <td>378.40</td>\n",
       "      <td>11759.0</td>\n",
       "      <td>3587.0</td>\n",
       "      <td>3.28</td>\n",
       "    </tr>\n",
       "    <tr>\n",
       "      <th>15</th>\n",
       "      <td>2005</td>\n",
       "      <td>130756</td>\n",
       "      <td>67375</td>\n",
       "      <td>63381</td>\n",
       "      <td>56212</td>\n",
       "      <td>74544</td>\n",
       "      <td>44879.99</td>\n",
       "      <td>42.99</td>\n",
       "      <td>48402.0</td>\n",
       "      <td>370.20</td>\n",
       "      <td>10493.0</td>\n",
       "      <td>3255.0</td>\n",
       "      <td>3.22</td>\n",
       "    </tr>\n",
       "    <tr>\n",
       "      <th>16</th>\n",
       "      <td>2004</td>\n",
       "      <td>129988</td>\n",
       "      <td>66976</td>\n",
       "      <td>63012</td>\n",
       "      <td>54283</td>\n",
       "      <td>75705</td>\n",
       "      <td>40288.77</td>\n",
       "      <td>41.76</td>\n",
       "      <td>46947.0</td>\n",
       "      <td>361.20</td>\n",
       "      <td>9422.0</td>\n",
       "      <td>2936.0</td>\n",
       "      <td>3.21</td>\n",
       "    </tr>\n",
       "    <tr>\n",
       "      <th>17</th>\n",
       "      <td>2003</td>\n",
       "      <td>129227</td>\n",
       "      <td>66556</td>\n",
       "      <td>62671</td>\n",
       "      <td>52376</td>\n",
       "      <td>76851</td>\n",
       "      <td>36589.16</td>\n",
       "      <td>40.53</td>\n",
       "      <td>43070.0</td>\n",
       "      <td>333.30</td>\n",
       "      <td>8472.0</td>\n",
       "      <td>2622.0</td>\n",
       "      <td>3.23</td>\n",
       "    </tr>\n",
       "    <tr>\n",
       "      <th>18</th>\n",
       "      <td>2002</td>\n",
       "      <td>128453</td>\n",
       "      <td>66115</td>\n",
       "      <td>62338</td>\n",
       "      <td>50212</td>\n",
       "      <td>78241</td>\n",
       "      <td>33252.11</td>\n",
       "      <td>39.09</td>\n",
       "      <td>45711.0</td>\n",
       "      <td>355.90</td>\n",
       "      <td>7703.0</td>\n",
       "      <td>2476.0</td>\n",
       "      <td>3.11</td>\n",
       "    </tr>\n",
       "    <tr>\n",
       "      <th>19</th>\n",
       "      <td>2001</td>\n",
       "      <td>127627</td>\n",
       "      <td>65672</td>\n",
       "      <td>61955</td>\n",
       "      <td>48064</td>\n",
       "      <td>79563</td>\n",
       "      <td>30470.00</td>\n",
       "      <td>37.66</td>\n",
       "      <td>45262.0</td>\n",
       "      <td>354.60</td>\n",
       "      <td>6860.0</td>\n",
       "      <td>2366.0</td>\n",
       "      <td>2.90</td>\n",
       "    </tr>\n",
       "    <tr>\n",
       "      <th>20</th>\n",
       "      <td>2000</td>\n",
       "      <td>126743</td>\n",
       "      <td>65437</td>\n",
       "      <td>61306</td>\n",
       "      <td>45906</td>\n",
       "      <td>80837</td>\n",
       "      <td>28124.45</td>\n",
       "      <td>36.22</td>\n",
       "      <td>46218.0</td>\n",
       "      <td>364.70</td>\n",
       "      <td>6280.0</td>\n",
       "      <td>2253.0</td>\n",
       "      <td>2.79</td>\n",
       "    </tr>\n",
       "  </tbody>\n",
       "</table>\n",
       "</div>"
      ],
      "text/plain": [
       "    year   total   male  female  urban  rural        GDP  urbanrate    Grain  \\\n",
       "0   2020  141212  72357   68855  90220  50992  147727.31      63.89  66949.0   \n",
       "1   2019  141008  72039   68969  88426  52582  142799.37      60.00  66384.0   \n",
       "2   2018  140541  71864   68677  86433  54108  136051.28      59.58  65789.0   \n",
       "3   2017  140011  71650   68361  84343  55668  127666.85      58.52  66160.0   \n",
       "4   2016  139232  71307   67925  81924  57308  119486.96      57.35  61624.0   \n",
       "5   2015  138326  70857   67469  79302  59024  111994.63      56.10  62144.0   \n",
       "6   2014  137646  70522   67124  76738  60908  104765.60      54.77  60703.0   \n",
       "7   2013  136726  70063   66663  74502  62224   97640.15      53.73  60194.0   \n",
       "8   2012  135922  69660   66262  72175  63747   90610.89      52.57  58957.0   \n",
       "9   2011  134916  69161   65755  69927  64989   84010.78      51.27  57121.0   \n",
       "10  2010  134091  68748   65343  66978  67113   76696.65      49.95  54648.0   \n",
       "11  2009  133450  68647   64803  64512  68938   69323.32      46.59  53082.0   \n",
       "12  2008  132802  68357   64445  62403  70399   63366.95      45.68  52871.0   \n",
       "13  2007  132129  68048   64081  60633  71496   57787.93      44.94  50160.0   \n",
       "14  2006  131448  67728   63720  58288  73160   50588.49      43.90  49804.0   \n",
       "15  2005  130756  67375   63381  56212  74544   44879.99      42.99  48402.0   \n",
       "16  2004  129988  66976   63012  54283  75705   40288.77      41.76  46947.0   \n",
       "17  2003  129227  66556   62671  52376  76851   36589.16      40.53  43070.0   \n",
       "18  2002  128453  66115   62338  50212  78241   33252.11      39.09  45711.0   \n",
       "19  2001  127627  65672   61955  48064  79563   30470.00      37.66  45262.0   \n",
       "20  2000  126743  65437   61306  45906  80837   28124.45      36.22  46218.0   \n",
       "\n",
       "     grain  uincome  rincome  incomeratio  \n",
       "0   474.00  43834.0  17131.0         2.56  \n",
       "1   474.95  42359.0  16021.0         2.64  \n",
       "2   472.00  39251.0  14617.0         2.69  \n",
       "3   467.00  36396.0  13432.0         2.71  \n",
       "4   445.70  33616.0  12363.0         2.72  \n",
       "5   452.10  31195.0  11422.0         2.73  \n",
       "6   443.80  28844.0  10489.0         2.75  \n",
       "7   442.40  26955.0   8896.0         3.03  \n",
       "8   435.40  24565.0   7917.0         3.10  \n",
       "9   424.00  21810.0   6977.0         3.13  \n",
       "10  407.50  19109.0   5919.0         3.23  \n",
       "11  397.70  17175.0   5153.0         3.33  \n",
       "12  398.00  15781.0   4761.0         3.31  \n",
       "13  379.60  13786.0   4140.0         3.33  \n",
       "14  378.40  11759.0   3587.0         3.28  \n",
       "15  370.20  10493.0   3255.0         3.22  \n",
       "16  361.20   9422.0   2936.0         3.21  \n",
       "17  333.30   8472.0   2622.0         3.23  \n",
       "18  355.90   7703.0   2476.0         3.11  \n",
       "19  354.60   6860.0   2366.0         2.90  \n",
       "20  364.70   6280.0   2253.0         2.79  "
      ]
     },
     "execution_count": 93,
     "metadata": {},
     "output_type": "execute_result"
    }
   ],
   "source": [
    "# Rename variables\n",
    "df.rename(columns = {'Unnamed: 0':'year', 'At the end of the total population (ten thousand people)':'total'\n",
    "                             , 'The male population (ten thousand people)':\"male\", \n",
    "                             \"Female population (ten thousand people)\":\"female\",\n",
    "                             \"Urban population (ten thousand people)\":\"urban\",\n",
    "                            \"Rural population (ten thousand people)\":\"rural\",\n",
    "                            \"GDP(billion)\":\"GDP\",\n",
    "                          \"urbanization rate\":\"urbanrate\",\n",
    "                          \"Grain output (ten thousand tons)\":\"Grain\",\n",
    "                          \"The per capita grain(kg)\":\"grain\",\n",
    "                          \"urban per capita disposable income\":\"uincome\",\n",
    "                          \"rural per capita disposable income\":\"rincome\",\n",
    "                          \"Urban and rural income ratio\":\"incomeratio\"}, inplace = True)\n",
    "df.head(21)\n"
   ]
  },
  {
   "cell_type": "markdown",
   "id": "c1e0cb91-babb-463c-939d-6b1fa958c02b",
   "metadata": {
    "tags": []
   },
   "source": [
    "## 1. Observation and Visualization of Urbanization rate and GDP\n",
    "### - China's GDP  growth path in the past 70 years\n",
    "From being poor, being in vain, and waiting to be rebuilt, to becoming the second largest economy in the world with an economic aggregate exceeding 90 trillion yuan, China has created a development speed rarely seen in economic history in the past 70 years.\n"
   ]
  },
  {
   "cell_type": "code",
   "execution_count": 97,
   "id": "59765bd1-7684-438a-b436-4111a30fe7f4",
   "metadata": {},
   "outputs": [
    {
     "data": {
      "image/png": "[encoded data removed]",
      "text/plain": [
       "<Figure size 720x432 with 1 Axes>"
      ]
     },
     "metadata": {
      "needs_background": "light"
     },
     "output_type": "display_data"
    }
   ],
   "source": [
    "fig, ax = plt.subplots(1, figsize=(10, 6))\n",
    "n = len(df)\n",
    "plt.bar(df.year, df.GDP, color=colors[2], width=0.5)\n",
    "plt.scatter(df.year, df.GDP, color=colors[2])\n",
    "plt.title(\"China's GDP (billion)\", loc=\"center\", fontsize=16)\n",
    "plt.annotate(\"28124\", (2000, 28124.45), xytext=(1998, 40000))\n",
    "plt.annotate(\"76697\", (2010, 76696.65), xytext=(2008, 100000))\n",
    "plt.annotate(\"1447727\", (2020, 147727.31), xytext=(2018, 150000))\n",
    "plt.show()"
   ]
  },
  {
   "cell_type": "markdown",
   "id": "bce1142b-db35-40d3-9fa0-015a732f99e9",
   "metadata": {},
   "source": [
    "From the graph we can see that China's GDP has grown rapidly since 2000. China's GDP growth trend constitutes a typical hockey stick."
   ]
  },
  {
   "cell_type": "markdown",
   "id": "63a0ca2f-60ad-4de3-bf17-012737a2df2c",
   "metadata": {
    "tags": []
   },
   "source": [
    "### - China's population growth path in the past 70 years\n",
    "Since the founding of the People's Republic of China, China's population has grown from a high speed to a steady growth. The total population exceeded 1 billion in 1981, 1.3 billion in 2005, and 1.4 billion in 2019, more than doubling from the initial stage of the founding of the People's Republic of China.\n",
    "\n",
    "We can observe the detailed change through histogram below."
   ]
  },
  {
   "cell_type": "code",
   "execution_count": 98,
   "id": "f2b91eca-7aa5-435a-9b58-89f87fd5ce5d",
   "metadata": {},
   "outputs": [
    {
     "data": {
      "image/png": "[encoded data removed]",
      "text/plain": [
       "<Figure size 720x432 with 1 Axes>"
      ]
     },
     "metadata": {
      "needs_background": "light"
     },
     "output_type": "display_data"
    }
   ],
   "source": [
    "fig, ax = plt.subplots(1, figsize=(10, 6))\n",
    "n = len(df)\n",
    "plt.bar(df.year, df.total, color=colors[7], width=0.5)\n",
    "plt.scatter(df.year, df.total, color=colors[7])\n",
    "plt.title(\"China's population (ten thousand people)\", loc=\"center\", fontsize=16)\n",
    "plt.show()"
   ]
  },
  {
   "cell_type": "markdown",
   "id": "7b08314b-6ef0-4dcb-ac22-8888133b77bf",
   "metadata": {},
   "source": [
    "In recent years, the birth population in China has been declining due to the one-child policy implemented in the 1980s, which has reduced the population of childbearing age (other relative factors include, but are not limited to, increased life pressure and self-consciousness)."
   ]
  },
  {
   "cell_type": "markdown",
   "id": "3089604c-3aa5-4c6a-9010-65ecc0d034e3",
   "metadata": {},
   "source": [
    "### - Change in the number of urban population and rural population\n",
    "\n",
    "China is in the fastest period of urbanization, with the urbanization rate increasing at a rate of nearly 2% per year.The government plans to raise the urban population to about 900 million, accounting for 70 percent of the country's total population, within the next decade.\n",
    "\n",
    "After the reform and opening up at the end of 1978, with the continuous economic construction and economic system reform, the growth of urban population began to accelerate, and the inflow of foreign capital created a large number of employment opportunities, resulting in the growth of urban population.\n",
    "\n",
    "Compared with the 1960s and 1970s, the growth rate of the number of cities in mainland China increased significantly from 1980 to 1995, from 193 in 1978 to 622 in 1994, with an average increase of 33 cities per year.\n",
    "\n",
    "By 1994, the urban population on the Chinese mainland had reached 343 million, and the urbanization level had reached 28.6 percent, 10.7 percent higher than in 1978.By 2000, the urban population had reached 456 million and the urbanization level had risen to 36.09 percent.\n",
    "\n",
    "By 2016, the urbanization rate on the Chinese mainland had reached 57.35 percent, with more urban population than rural population.\n",
    "(wikipedia)"
   ]
  },
  {
   "cell_type": "code",
   "execution_count": 99,
   "id": "6718150e-ba10-48a1-a363-b2391fe2d36a",
   "metadata": {},
   "outputs": [
    {
     "data": {
      "image/png": "[encoded data removed]",
      "text/plain": [
       "<Figure size 1440x432 with 2 Axes>"
      ]
     },
     "metadata": {
      "needs_background": "light"
     },
     "output_type": "display_data"
    }
   ],
   "source": [
    "# Plot bar charts to see the change of rural and urben population in the past 70 years\n",
    "fig,(ax1,ax2)=plt.subplots(1,2,figsize=(20,6))\n",
    "n = len(df)\n",
    "\n",
    "ax1.bar(df.year, df.urban, color=colors[6], width=0.5)\n",
    "ax1.scatter(df.year, df.urban, color=colors[6])\n",
    "ax1.title.set_text(\"China's Urban population(ten thousand people)\")\n",
    "\n",
    "ax2.bar(df.year, df.rural, color=colors[1], width=0.5,)\n",
    "ax2.scatter(df.year, df.rural, color=colors[1],label=\"1\")\n",
    "ax2.title.set_text(\"China's Rural Population(ten thousand people)\")\n",
    "\n",
    "plt.show()\n"
   ]
  },
  {
   "cell_type": "markdown",
   "id": "74e7d0a9-42f6-4ed7-a785-ebe2806bc8a0",
   "metadata": {},
   "source": [
    "We can observe that since the founding of the People's Republic of China, the population of urban residents has increasing constantly.\n",
    "\n",
    "The population of rural residents showed an upward trend from the beginning of the founding of the People's Republic of China to 1978, and the growth rate slowed down since 1978. Starting from 1996, rural population decreases rapidly."
   ]
  },
  {
   "cell_type": "code",
   "execution_count": 100,
   "id": "0cdfbbfc-0dce-44d3-8106-61cfb1c583ef",
   "metadata": {},
   "outputs": [
    {
     "data": {
      "image/png": "[encoded data removed]",
      "text/plain": [
       "<Figure size 720x432 with 1 Axes>"
      ]
     },
     "metadata": {
      "needs_background": "light"
     },
     "output_type": "display_data"
    }
   ],
   "source": [
    "# Plot and observe how China's urban and rural populations changes over time\n",
    "fig, ax = plt.subplots(1, figsize=(10, 6))\n",
    "n = len(df)\n",
    "plt.plot(df.year, df.rural, label = \"Rural Population(ten thousand people)\", color=colors[1])\n",
    "plt.plot(df.year, df.urban, label = \"Urban Population(ten thousand people)\", color=colors[6])\n",
    "plt.title(\"China's Rural and Urban Population(ten thousand people)\", loc=\"center\", fontsize=16)\n",
    "plt.legend()\n",
    "plt.show()\n"
   ]
  },
  {
   "cell_type": "markdown",
   "id": "d52aa379-378e-4b2a-852a-1954d57c245a",
   "metadata": {},
   "source": [
    "At about 2010, China's urban population exceeded rural population.\n",
    "\n",
    "Then we can use pie charts to visually observe the changes in urban and rural population structure in the past 20 years."
   ]
  },
  {
   "cell_type": "code",
   "execution_count": 8,
   "id": "77a58bce-2686-4de1-9dc2-f8b597dc07a4",
   "metadata": {},
   "outputs": [
    {
     "data": {
      "image/png": "[encoded data removed]",
      "text/plain": [
       "<Figure size 864x576 with 2 Axes>"
      ]
     },
     "metadata": {},
     "output_type": "display_data"
    }
   ],
   "source": [
    "fig,(ax1,ax2)=plt.subplots(1,2,figsize=(12,8))\n",
    "percentage = np.array([45906, 80837])\n",
    "ax1.pie(percentage,\n",
    "        labels=['Urben population', 'Rural population'], \n",
    "        colors=['#b0c4de','#ecad9e'], \n",
    "        autopct='%.2f%%', \n",
    "        explode=(0.1, 0)\n",
    "       )\n",
    "ax1.title.set_text(\"Composition of urban and rural population in 2000\")\n",
    "percentage = np.array([90220,50992])\n",
    "ax2.pie(percentage,\n",
    "        labels=['Urben population', 'Rural population'], \n",
    "        colors=['#b0c4de','#ecad9e'], \n",
    "        autopct='%.2f%%', \n",
    "        explode=(0.1, 0),\n",
    "       )\n",
    "ax2.title.set_text(\"Composition of urban and rural population in 2020\")\n"
   ]
  },
  {
   "cell_type": "markdown",
   "id": "a13e9754-8fa0-4fde-9089-1184c3fdada5",
   "metadata": {},
   "source": [
    "In 2000, rural population occupied most of China's population.  \n",
    "In 2020, the situation reversed and we can see that urban population occupies almost two third of China's population structure.  \n",
    "China's proportion of urban population increased rapidly from 2000 to 2020."
   ]
  },
  {
   "cell_type": "markdown",
   "id": "1a19c5bc-300c-4de3-a3bb-8db565e75a20",
   "metadata": {},
   "source": [
    "## 2. Why Pursue Urbanization and How Urbanization Change People's Life\n",
    "### - urban disposable income & rural disposable income\n",
    "GDP per capita alone is not a good measure of the well-being of residents, so I use disposable income to measure resident's welfare instead."
   ]
  },
  {
   "cell_type": "code",
   "execution_count": 9,
   "id": "09d7d1c0-94f7-4b05-a40d-e877182cfaf5",
   "metadata": {},
   "outputs": [
    {
     "data": {
      "image/png": "[encoded data removed]",
      "text/plain": [
       "<Figure size 864x576 with 2 Axes>"
      ]
     },
     "metadata": {
      "needs_background": "light"
     },
     "output_type": "display_data"
    }
   ],
   "source": [
    "fig,(ax1,ax2)=plt.subplots(1,2,figsize=(12,8))\n",
    "ax1.bar(df.year,df.uincome, color=colors[6])\n",
    "ax1.title.set_text(\"Urban disposable income(RMB)\") \n",
    "ax2.bar(df.year,df.rincome, color=colors[1])\n",
    "ax2.title.set_text(\"Rural disposable income(RMB)\") "
   ]
  },
  {
   "cell_type": "markdown",
   "id": "1d2c9f78-9cd8-452b-809a-11030b849afb",
   "metadata": {},
   "source": [
    "From 2000-2020, rural disposable income and urban disposable income all increases rapidly.   \n",
    "Urban resident's disposable income increases from 6280 to 43834, rural resident's disposable income increases from 2253 to 17131. \n",
    "However, the income ration of urban and rural resident didn't change much (slightly decreases) and is near 2.5.  \n",
    "We can use various charts to observe the difference of rural and urban resident's disposable income."
   ]
  },
  {
   "cell_type": "code",
   "execution_count": 129,
   "id": "bb2e71b1-581c-4894-aff1-8984bb7baae0",
   "metadata": {},
   "outputs": [
    {
     "data": {
      "image/png": "[encoded data removed]",
      "text/plain": [
       "<Figure size 720x432 with 1 Axes>"
      ]
     },
     "metadata": {
      "needs_background": "light"
     },
     "output_type": "display_data"
    }
   ],
   "source": [
    "# superimpose two bar charts together and observe the difference of rural and urban resident's disposable income\n",
    "import matplotlib.pyplot as plt\n",
    "import numpy as np\n",
    "fig, ax = plt.subplots(1, figsize=(10, 6))\n",
    "n = len(df)\n",
    "plt.bar(df.year, df.uincome, label = \"Urban disposable income(RMB)\", color=colors[6])\n",
    "plt.bar(df.year, df.rincome, label = \"Rural disposable income(RMB)\", color=colors[1])\n",
    "plt.legend()\n",
    "plt.show()\n"
   ]
  },
  {
   "cell_type": "code",
   "execution_count": 26,
   "id": "0443e370-1d9f-494c-b146-3ad169dff91f",
   "metadata": {},
   "outputs": [
    {
     "data": {
      "image/png": "[encoded data removed]",
      "text/plain": [
       "<Figure size 720x432 with 1 Axes>"
      ]
     },
     "metadata": {
      "needs_background": "light"
     },
     "output_type": "display_data"
    }
   ],
   "source": [
    "# plot and observe how rural and urban resident's disposable income change over time\n",
    "fig, ax = plt.subplots(1, figsize=(10, 6))\n",
    "n = len(df)\n",
    "plt.plot(df.year, df.uincome, label = \"Urban disposable income(RMB)\", color=colors[6])\n",
    "plt.plot(df.year, df.rincome, label = \"Rural disposable income(RMB)\", color=colors[1])\n",
    "plt.title(\"China's Rural and Urban Disposable Income\", loc=\"center\", fontsize=16)\n",
    "plt.legend()\n",
    "plt.show()\n"
   ]
  },
  {
   "cell_type": "code",
   "execution_count": 39,
   "id": "96e685ef-6dff-4081-b2fa-c4642a44cb3e",
   "metadata": {},
   "outputs": [
    {
     "data": {
      "image/png": "[encoded data removed]",
      "text/plain": [
       "<Figure size 720x432 with 1 Axes>"
      ]
     },
     "metadata": {
      "needs_background": "light"
     },
     "output_type": "display_data"
    }
   ],
   "source": [
    "# Plot and observe the difference of rural and urban resident's disposable income\n",
    "fig, ax = plt.subplots(1, figsize=(10, 6))\n",
    "n = len(df)\n",
    "df[\"Diff\"]=df[\"uincome\"]-df[\"rincome\"]\n",
    "plt.bar(df.year, df.Diff, color=colors[7])\n",
    "plt.title(\"Income difference between Urban Area and Rural Area(RMB)\",loc=\"center\", fontsize=16)\n",
    "plt.show()"
   ]
  },
  {
   "cell_type": "markdown",
   "id": "212d4a1a-a1d2-4ef3-9aa0-04b0a54f6e01",
   "metadata": {},
   "source": [
    "In the past 20 years, the per capita disposable income of China's urban population has been much higher than that of the rural population.   \n",
    "Note: because of inflation, growth in real term will be smaller than growth in nominal term."
   ]
  },
  {
   "cell_type": "markdown",
   "id": "3599ff8e-ef80-4021-8b8f-4bf7784c0fff",
   "metadata": {},
   "source": [
    "## 3. How Urbanization Rate Interact with GDP\n",
    "### - Observing Provincial GDP and urbanization rate\n",
    "I want to observe how urbanization rate interact with GDP.    \n",
    "To do this, I get data of China's 31 provinces' provincial GDP and urbanization rate, then observe how they relate with each other using simple linear regression model."
   ]
  },
  {
   "cell_type": "code",
   "execution_count": 73,
   "id": "5c18d8f5-c1bd-4be4-b419-c65df2fb3bf4",
   "metadata": {},
   "outputs": [
    {
     "data": {
      "text/html": [
       "<div>\n",
       "<style scoped>\n",
       "    .dataframe tbody tr th:only-of-type {\n",
       "        vertical-align: middle;\n",
       "    }\n",
       "\n",
       "    .dataframe tbody tr th {\n",
       "        vertical-align: top;\n",
       "    }\n",
       "\n",
       "    .dataframe thead th {\n",
       "        text-align: right;\n",
       "    }\n",
       "</style>\n",
       "<table border=\"1\" class=\"dataframe\">\n",
       "  <thead>\n",
       "    <tr style=\"text-align: right;\">\n",
       "      <th></th>\n",
       "      <th>Province</th>\n",
       "      <th>GDP</th>\n",
       "      <th>Urbanization Rate</th>\n",
       "    </tr>\n",
       "  </thead>\n",
       "  <tbody>\n",
       "    <tr>\n",
       "      <th>0</th>\n",
       "      <td>Beijing</td>\n",
       "      <td>164889</td>\n",
       "      <td>87.55</td>\n",
       "    </tr>\n",
       "    <tr>\n",
       "      <th>1</th>\n",
       "      <td>Shanghai</td>\n",
       "      <td>155768</td>\n",
       "      <td>89.30</td>\n",
       "    </tr>\n",
       "    <tr>\n",
       "      <th>2</th>\n",
       "      <td>jiangsu</td>\n",
       "      <td>121231</td>\n",
       "      <td>73.44</td>\n",
       "    </tr>\n",
       "    <tr>\n",
       "      <th>3</th>\n",
       "      <td>Fujian</td>\n",
       "      <td>105818</td>\n",
       "      <td>68.75</td>\n",
       "    </tr>\n",
       "    <tr>\n",
       "      <th>4</th>\n",
       "      <td>Tianjin</td>\n",
       "      <td>101614</td>\n",
       "      <td>84.70</td>\n",
       "    </tr>\n",
       "    <tr>\n",
       "      <th>5</th>\n",
       "      <td>Zhejiang</td>\n",
       "      <td>100620</td>\n",
       "      <td>72.17</td>\n",
       "    </tr>\n",
       "    <tr>\n",
       "      <th>6</th>\n",
       "      <td>Guangdong</td>\n",
       "      <td>88210</td>\n",
       "      <td>74.15</td>\n",
       "    </tr>\n",
       "    <tr>\n",
       "      <th>7</th>\n",
       "      <td>Chongqing</td>\n",
       "      <td>78170</td>\n",
       "      <td>69.46</td>\n",
       "    </tr>\n",
       "    <tr>\n",
       "      <th>8</th>\n",
       "      <td>Hubei</td>\n",
       "      <td>74440</td>\n",
       "      <td>62.89</td>\n",
       "    </tr>\n",
       "    <tr>\n",
       "      <th>9</th>\n",
       "      <td>Shandong</td>\n",
       "      <td>72151</td>\n",
       "      <td>63.05</td>\n",
       "    </tr>\n",
       "    <tr>\n",
       "      <th>10</th>\n",
       "      <td>Inner Mongolia</td>\n",
       "      <td>72062</td>\n",
       "      <td>67.48</td>\n",
       "    </tr>\n",
       "    <tr>\n",
       "      <th>11</th>\n",
       "      <td>Shaanxi</td>\n",
       "      <td>66292</td>\n",
       "      <td>62.66</td>\n",
       "    </tr>\n",
       "    <tr>\n",
       "      <th>12</th>\n",
       "      <td>Anhui</td>\n",
       "      <td>63426</td>\n",
       "      <td>58.33</td>\n",
       "    </tr>\n",
       "    <tr>\n",
       "      <th>13</th>\n",
       "      <td>Hunan</td>\n",
       "      <td>62900</td>\n",
       "      <td>58.76</td>\n",
       "    </tr>\n",
       "    <tr>\n",
       "      <th>14</th>\n",
       "      <td>Liaoning</td>\n",
       "      <td>58872</td>\n",
       "      <td>72.14</td>\n",
       "    </tr>\n",
       "    <tr>\n",
       "      <th>15</th>\n",
       "      <td>Sichuan</td>\n",
       "      <td>58126</td>\n",
       "      <td>56.73</td>\n",
       "    </tr>\n",
       "    <tr>\n",
       "      <th>16</th>\n",
       "      <td>Jiangxi</td>\n",
       "      <td>56871</td>\n",
       "      <td>50.05</td>\n",
       "    </tr>\n",
       "    <tr>\n",
       "      <th>17</th>\n",
       "      <td>Henan</td>\n",
       "      <td>55435</td>\n",
       "      <td>55.43</td>\n",
       "    </tr>\n",
       "    <tr>\n",
       "      <th>18</th>\n",
       "      <td>Hainan</td>\n",
       "      <td>55131</td>\n",
       "      <td>60.27</td>\n",
       "    </tr>\n",
       "    <tr>\n",
       "      <th>19</th>\n",
       "      <td>Ningxia</td>\n",
       "      <td>54528</td>\n",
       "      <td>64.96</td>\n",
       "    </tr>\n",
       "    <tr>\n",
       "      <th>20</th>\n",
       "      <td>Xinjiang</td>\n",
       "      <td>53593</td>\n",
       "      <td>56.53</td>\n",
       "    </tr>\n",
       "    <tr>\n",
       "      <th>21</th>\n",
       "      <td>Tibet</td>\n",
       "      <td>52345</td>\n",
       "      <td>35.73</td>\n",
       "    </tr>\n",
       "    <tr>\n",
       "      <th>22</th>\n",
       "      <td>Yunnan</td>\n",
       "      <td>51975</td>\n",
       "      <td>50.05</td>\n",
       "    </tr>\n",
       "    <tr>\n",
       "      <th>23</th>\n",
       "      <td>Qinghai</td>\n",
       "      <td>50819</td>\n",
       "      <td>60.08</td>\n",
       "    </tr>\n",
       "    <tr>\n",
       "      <th>24</th>\n",
       "      <td>Jilin</td>\n",
       "      <td>50800</td>\n",
       "      <td>62.64</td>\n",
       "    </tr>\n",
       "    <tr>\n",
       "      <th>25</th>\n",
       "      <td>Shanxi</td>\n",
       "      <td>50528</td>\n",
       "      <td>62.53</td>\n",
       "    </tr>\n",
       "    <tr>\n",
       "      <th>26</th>\n",
       "      <td>Hebei</td>\n",
       "      <td>48267</td>\n",
       "      <td>60.07</td>\n",
       "    </tr>\n",
       "    <tr>\n",
       "      <th>27</th>\n",
       "      <td>Guizhou</td>\n",
       "      <td>46267</td>\n",
       "      <td>53.15</td>\n",
       "    </tr>\n",
       "    <tr>\n",
       "      <th>28</th>\n",
       "      <td>Guangxi</td>\n",
       "      <td>44309</td>\n",
       "      <td>54.20</td>\n",
       "    </tr>\n",
       "    <tr>\n",
       "      <th>29</th>\n",
       "      <td>Heilongjiang</td>\n",
       "      <td>42635</td>\n",
       "      <td>65.61</td>\n",
       "    </tr>\n",
       "    <tr>\n",
       "      <th>30</th>\n",
       "      <td>Gansu</td>\n",
       "      <td>35995</td>\n",
       "      <td>52.23</td>\n",
       "    </tr>\n",
       "  </tbody>\n",
       "</table>\n",
       "</div>"
      ],
      "text/plain": [
       "          Province     GDP  Urbanization Rate\n",
       "0          Beijing  164889              87.55\n",
       "1         Shanghai  155768              89.30\n",
       "2          jiangsu  121231              73.44\n",
       "3           Fujian  105818              68.75\n",
       "4          Tianjin  101614              84.70\n",
       "5         Zhejiang  100620              72.17\n",
       "6        Guangdong   88210              74.15\n",
       "7        Chongqing   78170              69.46\n",
       "8            Hubei   74440              62.89\n",
       "9         Shandong   72151              63.05\n",
       "10  Inner Mongolia   72062              67.48\n",
       "11         Shaanxi   66292              62.66\n",
       "12           Anhui   63426              58.33\n",
       "13           Hunan   62900              58.76\n",
       "14        Liaoning   58872              72.14\n",
       "15         Sichuan   58126              56.73\n",
       "16         Jiangxi   56871              50.05\n",
       "17           Henan   55435              55.43\n",
       "18          Hainan   55131              60.27\n",
       "19         Ningxia   54528              64.96\n",
       "20        Xinjiang   53593              56.53\n",
       "21           Tibet   52345              35.73\n",
       "22          Yunnan   51975              50.05\n",
       "23         Qinghai   50819              60.08\n",
       "24           Jilin   50800              62.64\n",
       "25          Shanxi   50528              62.53\n",
       "26           Hebei   48267              60.07\n",
       "27         Guizhou   46267              53.15\n",
       "28         Guangxi   44309              54.20\n",
       "29    Heilongjiang   42635              65.61\n",
       "30           Gansu   35995              52.23"
      ]
     },
     "execution_count": 73,
     "metadata": {},
     "output_type": "execute_result"
    }
   ],
   "source": [
    "# Import data of provnetial GDP and urbanization rate.\n",
    "df3 = pd.read_csv(\"https://raw.githubusercontent.com/Jiayiyhy/Jiayiyhy/main/GDP%20%26%20urbanlization.csv\",header=0,index_col=False)\n",
    "df3.head(31)\n",
    "#Source: http://www.stats.gov.cn/tjsj/ndsj/2021/indexeh.htm"
   ]
  },
  {
   "cell_type": "markdown",
   "id": "dc9c8efe-152a-477a-987d-2eb102136d52",
   "metadata": {},
   "source": [
    "Plot interactive charts showing each province's provincial GDP and urbanization rate."
   ]
  },
  {
   "cell_type": "code",
   "execution_count": 74,
   "id": "11f15229-86e2-4ba6-ba1b-40581203f375",
   "metadata": {},
   "outputs": [
    {
     "data": {
      "application/vnd.plotly.v1+json": {
       "config": {
        "plotlyServerURL": "https://plot.ly"
       },
       "data": [
        {
         "alignmentgroup": "True",
         "hovertemplate": "Province=%{x}<br>GDP=%{y}<extra></extra>",
         "legendgroup": "",
         "marker": {
          "color": "#636efa",
          "pattern": {
           "shape": ""
          }
         },
         "name": "",
         "offsetgroup": "",
         "orientation": "v",
         "showlegend": false,
         "textposition": "auto",
         "type": "bar",
         "x": [
          "Beijing",
          "Shanghai",
          "jiangsu",
          "Fujian",
          "Tianjin",
          "Zhejiang",
          "Guangdong",
          "Chongqing",
          "Hubei",
          "Shandong",
          "Inner Mongolia",
          "Shaanxi",
          "Anhui",
          "Hunan",
          "Liaoning",
          "Sichuan",
          "Jiangxi",
          "Henan",
          "Hainan",
          "Ningxia",
          "Xinjiang",
          "Tibet",
          "Yunnan",
          "Qinghai",
          "Jilin",
          "Shanxi",
          "Hebei",
          "Guizhou",
          "Guangxi",
          "Heilongjiang",
          "Gansu"
         ],
         "xaxis": "x",
         "y": [
          164889,
          155768,
          121231,
          105818,
          101614,
          100620,
          88210,
          78170,
          74440,
          72151,
          72062,
          66292,
          63426,
          62900,
          58872,
          58126,
          56871,
          55435,
          55131,
          54528,
          53593,
          52345,
          51975,
          50819,
          50800,
          50528,
          48267,
          46267,
          44309,
          42635,
          35995
         ],
         "yaxis": "y"
        }
       ],
       "layout": {
        "autosize": true,
        "barmode": "relative",
        "legend": {
         "tracegroupgap": 0
        },
        "margin": {
         "t": 60
        },
        "template": {
         "data": {
          "bar": [
           {
            "error_x": {
             "color": "#2a3f5f"
            },
            "error_y": {
             "color": "#2a3f5f"
            },
            "marker": {
             "line": {
              "color": "#E5ECF6",
              "width": 0.5
             },
             "pattern": {
              "fillmode": "overlay",
              "size": 10,
              "solidity": 0.2
             }
            },
            "type": "bar"
           }
          ],
          "barpolar": [
           {
            "marker": {
             "line": {
              "color": "#E5ECF6",
              "width": 0.5
             },
             "pattern": {
              "fillmode": "overlay",
              "size": 10,
              "solidity": 0.2
             }
            },
            "type": "barpolar"
           }
          ],
          "carpet": [
           {
            "aaxis": {
             "endlinecolor": "#2a3f5f",
             "gridcolor": "white",
             "linecolor": "white",
             "minorgridcolor": "white",
             "startlinecolor": "#2a3f5f"
            },
            "baxis": {
             "endlinecolor": "#2a3f5f",
             "gridcolor": "white",
             "linecolor": "white",
             "minorgridcolor": "white",
             "startlinecolor": "#2a3f5f"
            },
            "type": "carpet"
           }
          ],
          "choropleth": [
           {
            "colorbar": {
             "outlinewidth": 0,
             "ticks": ""
            },
            "type": "choropleth"
           }
          ],
          "contour": [
           {
            "colorbar": {
             "outlinewidth": 0,
             "ticks": ""
            },
            "colorscale": [
             [
              0,
              "#0d0887"
             ],
             [
              0.1111111111111111,
              "#46039f"
             ],
             [
              0.2222222222222222,
              "#7201a8"
             ],
             [
              0.3333333333333333,
              "#9c179e"
             ],
             [
              0.4444444444444444,
              "#bd3786"
             ],
             [
              0.5555555555555556,
              "#d8576b"
             ],
             [
              0.6666666666666666,
              "#ed7953"
             ],
             [
              0.7777777777777778,
              "#fb9f3a"
             ],
             [
              0.8888888888888888,
              "#fdca26"
             ],
             [
              1,
              "#f0f921"
             ]
            ],
            "type": "contour"
           }
          ],
          "contourcarpet": [
           {
            "colorbar": {
             "outlinewidth": 0,
             "ticks": ""
            },
            "type": "contourcarpet"
           }
          ],
          "heatmap": [
           {
            "colorbar": {
             "outlinewidth": 0,
             "ticks": ""
            },
            "colorscale": [
             [
              0,
              "#0d0887"
             ],
             [
              0.1111111111111111,
              "#46039f"
             ],
             [
              0.2222222222222222,
              "#7201a8"
             ],
             [
              0.3333333333333333,
              "#9c179e"
             ],
             [
              0.4444444444444444,
              "#bd3786"
             ],
             [
              0.5555555555555556,
              "#d8576b"
             ],
             [
              0.6666666666666666,
              "#ed7953"
             ],
             [
              0.7777777777777778,
              "#fb9f3a"
             ],
             [
              0.8888888888888888,
              "#fdca26"
             ],
             [
              1,
              "#f0f921"
             ]
            ],
            "type": "heatmap"
           }
          ],
          "heatmapgl": [
           {
            "colorbar": {
             "outlinewidth": 0,
             "ticks": ""
            },
            "colorscale": [
             [
              0,
              "#0d0887"
             ],
             [
              0.1111111111111111,
              "#46039f"
             ],
             [
              0.2222222222222222,
              "#7201a8"
             ],
             [
              0.3333333333333333,
              "#9c179e"
             ],
             [
              0.4444444444444444,
              "#bd3786"
             ],
             [
              0.5555555555555556,
              "#d8576b"
             ],
             [
              0.6666666666666666,
              "#ed7953"
             ],
             [
              0.7777777777777778,
              "#fb9f3a"
             ],
             [
              0.8888888888888888,
              "#fdca26"
             ],
             [
              1,
              "#f0f921"
             ]
            ],
            "type": "heatmapgl"
           }
          ],
          "histogram": [
           {
            "marker": {
             "pattern": {
              "fillmode": "overlay",
              "size": 10,
              "solidity": 0.2
             }
            },
            "type": "histogram"
           }
          ],
          "histogram2d": [
           {
            "colorbar": {
             "outlinewidth": 0,
             "ticks": ""
            },
            "colorscale": [
             [
              0,
              "#0d0887"
             ],
             [
              0.1111111111111111,
              "#46039f"
             ],
             [
              0.2222222222222222,
              "#7201a8"
             ],
             [
              0.3333333333333333,
              "#9c179e"
             ],
             [
              0.4444444444444444,
              "#bd3786"
             ],
             [
              0.5555555555555556,
              "#d8576b"
             ],
             [
              0.6666666666666666,
              "#ed7953"
             ],
             [
              0.7777777777777778,
              "#fb9f3a"
             ],
             [
              0.8888888888888888,
              "#fdca26"
             ],
             [
              1,
              "#f0f921"
             ]
            ],
            "type": "histogram2d"
           }
          ],
          "histogram2dcontour": [
           {
            "colorbar": {
             "outlinewidth": 0,
             "ticks": ""
            },
            "colorscale": [
             [
              0,
              "#0d0887"
             ],
             [
              0.1111111111111111,
              "#46039f"
             ],
             [
              0.2222222222222222,
              "#7201a8"
             ],
             [
              0.3333333333333333,
              "#9c179e"
             ],
             [
              0.4444444444444444,
              "#bd3786"
             ],
             [
              0.5555555555555556,
              "#d8576b"
             ],
             [
              0.6666666666666666,
              "#ed7953"
             ],
             [
              0.7777777777777778,
              "#fb9f3a"
             ],
             [
              0.8888888888888888,
              "#fdca26"
             ],
             [
              1,
              "#f0f921"
             ]
            ],
            "type": "histogram2dcontour"
           }
          ],
          "mesh3d": [
           {
            "colorbar": {
             "outlinewidth": 0,
             "ticks": ""
            },
            "type": "mesh3d"
           }
          ],
          "parcoords": [
           {
            "line": {
             "colorbar": {
              "outlinewidth": 0,
              "ticks": ""
             }
            },
            "type": "parcoords"
           }
          ],
          "pie": [
           {
            "automargin": true,
            "type": "pie"
           }
          ],
          "scatter": [
           {
            "marker": {
             "colorbar": {
              "outlinewidth": 0,
              "ticks": ""
             }
            },
            "type": "scatter"
           }
          ],
          "scatter3d": [
           {
            "line": {
             "colorbar": {
              "outlinewidth": 0,
              "ticks": ""
             }
            },
            "marker": {
             "colorbar": {
              "outlinewidth": 0,
              "ticks": ""
             }
            },
            "type": "scatter3d"
           }
          ],
          "scattercarpet": [
           {
            "marker": {
             "colorbar": {
              "outlinewidth": 0,
              "ticks": ""
             }
            },
            "type": "scattercarpet"
           }
          ],
          "scattergeo": [
           {
            "marker": {
             "colorbar": {
              "outlinewidth": 0,
              "ticks": ""
             }
            },
            "type": "scattergeo"
           }
          ],
          "scattergl": [
           {
            "marker": {
             "colorbar": {
              "outlinewidth": 0,
              "ticks": ""
             }
            },
            "type": "scattergl"
           }
          ],
          "scattermapbox": [
           {
            "marker": {
             "colorbar": {
              "outlinewidth": 0,
              "ticks": ""
             }
            },
            "type": "scattermapbox"
           }
          ],
          "scatterpolar": [
           {
            "marker": {
             "colorbar": {
              "outlinewidth": 0,
              "ticks": ""
             }
            },
            "type": "scatterpolar"
           }
          ],
          "scatterpolargl": [
           {
            "marker": {
             "colorbar": {
              "outlinewidth": 0,
              "ticks": ""
             }
            },
            "type": "scatterpolargl"
           }
          ],
          "scatterternary": [
           {
            "marker": {
             "colorbar": {
              "outlinewidth": 0,
              "ticks": ""
             }
            },
            "type": "scatterternary"
           }
          ],
          "surface": [
           {
            "colorbar": {
             "outlinewidth": 0,
             "ticks": ""
            },
            "colorscale": [
             [
              0,
              "#0d0887"
             ],
             [
              0.1111111111111111,
              "#46039f"
             ],
             [
              0.2222222222222222,
              "#7201a8"
             ],
             [
              0.3333333333333333,
              "#9c179e"
             ],
             [
              0.4444444444444444,
              "#bd3786"
             ],
             [
              0.5555555555555556,
              "#d8576b"
             ],
             [
              0.6666666666666666,
              "#ed7953"
             ],
             [
              0.7777777777777778,
              "#fb9f3a"
             ],
             [
              0.8888888888888888,
              "#fdca26"
             ],
             [
              1,
              "#f0f921"
             ]
            ],
            "type": "surface"
           }
          ],
          "table": [
           {
            "cells": {
             "fill": {
              "color": "#EBF0F8"
             },
             "line": {
              "color": "white"
             }
            },
            "header": {
             "fill": {
              "color": "#C8D4E3"
             },
             "line": {
              "color": "white"
             }
            },
            "type": "table"
           }
          ]
         },
         "layout": {
          "annotationdefaults": {
           "arrowcolor": "#2a3f5f",
           "arrowhead": 0,
           "arrowwidth": 1
          },
          "autotypenumbers": "strict",
          "coloraxis": {
           "colorbar": {
            "outlinewidth": 0,
            "ticks": ""
           }
          },
          "colorscale": {
           "diverging": [
            [
             0,
             "#8e0152"
            ],
            [
             0.1,
             "#c51b7d"
            ],
            [
             0.2,
             "#de77ae"
            ],
            [
             0.3,
             "#f1b6da"
            ],
            [
             0.4,
             "#fde0ef"
            ],
            [
             0.5,
             "#f7f7f7"
            ],
            [
             0.6,
             "#e6f5d0"
            ],
            [
             0.7,
             "#b8e186"
            ],
            [
             0.8,
             "#7fbc41"
            ],
            [
             0.9,
             "#4d9221"
            ],
            [
             1,
             "#276419"
            ]
           ],
           "sequential": [
            [
             0,
             "#0d0887"
            ],
            [
             0.1111111111111111,
             "#46039f"
            ],
            [
             0.2222222222222222,
             "#7201a8"
            ],
            [
             0.3333333333333333,
             "#9c179e"
            ],
            [
             0.4444444444444444,
             "#bd3786"
            ],
            [
             0.5555555555555556,
             "#d8576b"
            ],
            [
             0.6666666666666666,
             "#ed7953"
            ],
            [
             0.7777777777777778,
             "#fb9f3a"
            ],
            [
             0.8888888888888888,
             "#fdca26"
            ],
            [
             1,
             "#f0f921"
            ]
           ],
           "sequentialminus": [
            [
             0,
             "#0d0887"
            ],
            [
             0.1111111111111111,
             "#46039f"
            ],
            [
             0.2222222222222222,
             "#7201a8"
            ],
            [
             0.3333333333333333,
             "#9c179e"
            ],
            [
             0.4444444444444444,
             "#bd3786"
            ],
            [
             0.5555555555555556,
             "#d8576b"
            ],
            [
             0.6666666666666666,
             "#ed7953"
            ],
            [
             0.7777777777777778,
             "#fb9f3a"
            ],
            [
             0.8888888888888888,
             "#fdca26"
            ],
            [
             1,
             "#f0f921"
            ]
           ]
          },
          "colorway": [
           "#636efa",
           "#EF553B",
           "#00cc96",
           "#ab63fa",
           "#FFA15A",
           "#19d3f3",
           "#FF6692",
           "#B6E880",
           "#FF97FF",
           "#FECB52"
          ],
          "font": {
           "color": "#2a3f5f"
          },
          "geo": {
           "bgcolor": "white",
           "lakecolor": "white",
           "landcolor": "#E5ECF6",
           "showlakes": true,
           "showland": true,
           "subunitcolor": "white"
          },
          "hoverlabel": {
           "align": "left"
          },
          "hovermode": "closest",
          "mapbox": {
           "style": "light"
          },
          "paper_bgcolor": "white",
          "plot_bgcolor": "#E5ECF6",
          "polar": {
           "angularaxis": {
            "gridcolor": "white",
            "linecolor": "white",
            "ticks": ""
           },
           "bgcolor": "#E5ECF6",
           "radialaxis": {
            "gridcolor": "white",
            "linecolor": "white",
            "ticks": ""
           }
          },
          "scene": {
           "xaxis": {
            "backgroundcolor": "#E5ECF6",
            "gridcolor": "white",
            "gridwidth": 2,
            "linecolor": "white",
            "showbackground": true,
            "ticks": "",
            "zerolinecolor": "white"
           },
           "yaxis": {
            "backgroundcolor": "#E5ECF6",
            "gridcolor": "white",
            "gridwidth": 2,
            "linecolor": "white",
            "showbackground": true,
            "ticks": "",
            "zerolinecolor": "white"
           },
           "zaxis": {
            "backgroundcolor": "#E5ECF6",
            "gridcolor": "white",
            "gridwidth": 2,
            "linecolor": "white",
            "showbackground": true,
            "ticks": "",
            "zerolinecolor": "white"
           }
          },
          "shapedefaults": {
           "line": {
            "color": "#2a3f5f"
           }
          },
          "ternary": {
           "aaxis": {
            "gridcolor": "white",
            "linecolor": "white",
            "ticks": ""
           },
           "baxis": {
            "gridcolor": "white",
            "linecolor": "white",
            "ticks": ""
           },
           "bgcolor": "#E5ECF6",
           "caxis": {
            "gridcolor": "white",
            "linecolor": "white",
            "ticks": ""
           }
          },
          "title": {
           "x": 0.05
          },
          "xaxis": {
           "automargin": true,
           "gridcolor": "white",
           "linecolor": "white",
           "ticks": "",
           "title": {
            "standoff": 15
           },
           "zerolinecolor": "white",
           "zerolinewidth": 2
          },
          "yaxis": {
           "automargin": true,
           "gridcolor": "white",
           "linecolor": "white",
           "ticks": "",
           "title": {
            "standoff": 15
           },
           "zerolinecolor": "white",
           "zerolinewidth": 2
          }
         }
        },
        "xaxis": {
         "anchor": "y",
         "autorange": true,
         "domain": [
          0,
          1
         ],
         "range": [
          -0.5,
          30.5
         ],
         "title": {
          "text": "Province"
         },
         "type": "category"
        },
        "yaxis": {
         "anchor": "x",
         "autorange": true,
         "domain": [
          0,
          1
         ],
         "range": [
          0,
          173567.36842105264
         ],
         "title": {
          "text": "GDP"
         },
         "type": "linear"
        }
       }
      },
      "image/png": "[encoded data removed]",
      "text/html": [
       "<div>                            <div id=\"b0ec5f67-7a0c-432d-afd1-40ca5af6d4cd\" class=\"plotly-graph-div\" style=\"height:525px; width:100%;\"></div>            <script type=\"text/javascript\">                require([\"plotly\"], function(Plotly) {                    window.PLOTLYENV=window.PLOTLYENV || {};                                    if (document.getElementById(\"b0ec5f67-7a0c-432d-afd1-40ca5af6d4cd\")) {                    Plotly.newPlot(                        \"b0ec5f67-7a0c-432d-afd1-40ca5af6d4cd\",                        [{\"alignmentgroup\":\"True\",\"hovertemplate\":\"Province=%{x}<br>GDP=%{y}<extra></extra>\",\"legendgroup\":\"\",\"marker\":{\"color\":\"#636efa\",\"pattern\":{\"shape\":\"\"}},\"name\":\"\",\"offsetgroup\":\"\",\"orientation\":\"v\",\"showlegend\":false,\"textposition\":\"auto\",\"x\":[\"Beijing\",\"Shanghai\",\"jiangsu\",\"Fujian\",\"Tianjin\",\"Zhejiang\",\"Guangdong\",\"Chongqing\",\"Hubei\",\"Shandong\",\"Inner Mongolia\",\"Shaanxi\",\"Anhui\",\"Hunan\",\"Liaoning\",\"Sichuan\",\"Jiangxi\",\"Henan\",\"Hainan\",\"Ningxia\",\"Xinjiang\",\"Tibet\",\"Yunnan\",\"Qinghai\",\"Jilin\",\"Shanxi\",\"Hebei\",\"Guizhou\",\"Guangxi\",\"Heilongjiang\",\"Gansu\"],\"xaxis\":\"x\",\"y\":[164889,155768,121231,105818,101614,100620,88210,78170,74440,72151,72062,66292,63426,62900,58872,58126,56871,55435,55131,54528,53593,52345,51975,50819,50800,50528,48267,46267,44309,42635,35995],\"yaxis\":\"y\",\"type\":\"bar\"}],                        {\"template\":{\"data\":{\"bar\":[{\"error_x\":{\"color\":\"#2a3f5f\"},\"error_y\":{\"color\":\"#2a3f5f\"},\"marker\":{\"line\":{\"color\":\"#E5ECF6\",\"width\":0.5},\"pattern\":{\"fillmode\":\"overlay\",\"size\":10,\"solidity\":0.2}},\"type\":\"bar\"}],\"barpolar\":[{\"marker\":{\"line\":{\"color\":\"#E5ECF6\",\"width\":0.5},\"pattern\":{\"fillmode\":\"overlay\",\"size\":10,\"solidity\":0.2}},\"type\":\"barpolar\"}],\"carpet\":[{\"aaxis\":{\"endlinecolor\":\"#2a3f5f\",\"gridcolor\":\"white\",\"linecolor\":\"white\",\"minorgridcolor\":\"white\",\"startlinecolor\":\"#2a3f5f\"},\"baxis\":{\"endlinecolor\":\"#2a3f5f\",\"gridcolor\":\"white\",\"linecolor\":\"white\",\"minorgridcolor\":\"white\",\"startlinecolor\":\"#2a3f5f\"},\"type\":\"carpet\"}],\"choropleth\":[{\"colorbar\":{\"outlinewidth\":0,\"ticks\":\"\"},\"type\":\"choropleth\"}],\"contour\":[{\"colorbar\":{\"outlinewidth\":0,\"ticks\":\"\"},\"colorscale\":[[0.0,\"#0d0887\"],[0.1111111111111111,\"#46039f\"],[0.2222222222222222,\"#7201a8\"],[0.3333333333333333,\"#9c179e\"],[0.4444444444444444,\"#bd3786\"],[0.5555555555555556,\"#d8576b\"],[0.6666666666666666,\"#ed7953\"],[0.7777777777777778,\"#fb9f3a\"],[0.8888888888888888,\"#fdca26\"],[1.0,\"#f0f921\"]],\"type\":\"contour\"}],\"contourcarpet\":[{\"colorbar\":{\"outlinewidth\":0,\"ticks\":\"\"},\"type\":\"contourcarpet\"}],\"heatmap\":[{\"colorbar\":{\"outlinewidth\":0,\"ticks\":\"\"},\"colorscale\":[[0.0,\"#0d0887\"],[0.1111111111111111,\"#46039f\"],[0.2222222222222222,\"#7201a8\"],[0.3333333333333333,\"#9c179e\"],[0.4444444444444444,\"#bd3786\"],[0.5555555555555556,\"#d8576b\"],[0.6666666666666666,\"#ed7953\"],[0.7777777777777778,\"#fb9f3a\"],[0.8888888888888888,\"#fdca26\"],[1.0,\"#f0f921\"]],\"type\":\"heatmap\"}],\"heatmapgl\":[{\"colorbar\":{\"outlinewidth\":0,\"ticks\":\"\"},\"colorscale\":[[0.0,\"#0d0887\"],[0.1111111111111111,\"#46039f\"],[0.2222222222222222,\"#7201a8\"],[0.3333333333333333,\"#9c179e\"],[0.4444444444444444,\"#bd3786\"],[0.5555555555555556,\"#d8576b\"],[0.6666666666666666,\"#ed7953\"],[0.7777777777777778,\"#fb9f3a\"],[0.8888888888888888,\"#fdca26\"],[1.0,\"#f0f921\"]],\"type\":\"heatmapgl\"}],\"histogram\":[{\"marker\":{\"pattern\":{\"fillmode\":\"overlay\",\"size\":10,\"solidity\":0.2}},\"type\":\"histogram\"}],\"histogram2d\":[{\"colorbar\":{\"outlinewidth\":0,\"ticks\":\"\"},\"colorscale\":[[0.0,\"#0d0887\"],[0.1111111111111111,\"#46039f\"],[0.2222222222222222,\"#7201a8\"],[0.3333333333333333,\"#9c179e\"],[0.4444444444444444,\"#bd3786\"],[0.5555555555555556,\"#d8576b\"],[0.6666666666666666,\"#ed7953\"],[0.7777777777777778,\"#fb9f3a\"],[0.8888888888888888,\"#fdca26\"],[1.0,\"#f0f921\"]],\"type\":\"histogram2d\"}],\"histogram2dcontour\":[{\"colorbar\":{\"outlinewidth\":0,\"ticks\":\"\"},\"colorscale\":[[0.0,\"#0d0887\"],[0.1111111111111111,\"#46039f\"],[0.2222222222222222,\"#7201a8\"],[0.3333333333333333,\"#9c179e\"],[0.4444444444444444,\"#bd3786\"],[0.5555555555555556,\"#d8576b\"],[0.6666666666666666,\"#ed7953\"],[0.7777777777777778,\"#fb9f3a\"],[0.8888888888888888,\"#fdca26\"],[1.0,\"#f0f921\"]],\"type\":\"histogram2dcontour\"}],\"mesh3d\":[{\"colorbar\":{\"outlinewidth\":0,\"ticks\":\"\"},\"type\":\"mesh3d\"}],\"parcoords\":[{\"line\":{\"colorbar\":{\"outlinewidth\":0,\"ticks\":\"\"}},\"type\":\"parcoords\"}],\"pie\":[{\"automargin\":true,\"type\":\"pie\"}],\"scatter\":[{\"marker\":{\"colorbar\":{\"outlinewidth\":0,\"ticks\":\"\"}},\"type\":\"scatter\"}],\"scatter3d\":[{\"line\":{\"colorbar\":{\"outlinewidth\":0,\"ticks\":\"\"}},\"marker\":{\"colorbar\":{\"outlinewidth\":0,\"ticks\":\"\"}},\"type\":\"scatter3d\"}],\"scattercarpet\":[{\"marker\":{\"colorbar\":{\"outlinewidth\":0,\"ticks\":\"\"}},\"type\":\"scattercarpet\"}],\"scattergeo\":[{\"marker\":{\"colorbar\":{\"outlinewidth\":0,\"ticks\":\"\"}},\"type\":\"scattergeo\"}],\"scattergl\":[{\"marker\":{\"colorbar\":{\"outlinewidth\":0,\"ticks\":\"\"}},\"type\":\"scattergl\"}],\"scattermapbox\":[{\"marker\":{\"colorbar\":{\"outlinewidth\":0,\"ticks\":\"\"}},\"type\":\"scattermapbox\"}],\"scatterpolar\":[{\"marker\":{\"colorbar\":{\"outlinewidth\":0,\"ticks\":\"\"}},\"type\":\"scatterpolar\"}],\"scatterpolargl\":[{\"marker\":{\"colorbar\":{\"outlinewidth\":0,\"ticks\":\"\"}},\"type\":\"scatterpolargl\"}],\"scatterternary\":[{\"marker\":{\"colorbar\":{\"outlinewidth\":0,\"ticks\":\"\"}},\"type\":\"scatterternary\"}],\"surface\":[{\"colorbar\":{\"outlinewidth\":0,\"ticks\":\"\"},\"colorscale\":[[0.0,\"#0d0887\"],[0.1111111111111111,\"#46039f\"],[0.2222222222222222,\"#7201a8\"],[0.3333333333333333,\"#9c179e\"],[0.4444444444444444,\"#bd3786\"],[0.5555555555555556,\"#d8576b\"],[0.6666666666666666,\"#ed7953\"],[0.7777777777777778,\"#fb9f3a\"],[0.8888888888888888,\"#fdca26\"],[1.0,\"#f0f921\"]],\"type\":\"surface\"}],\"table\":[{\"cells\":{\"fill\":{\"color\":\"#EBF0F8\"},\"line\":{\"color\":\"white\"}},\"header\":{\"fill\":{\"color\":\"#C8D4E3\"},\"line\":{\"color\":\"white\"}},\"type\":\"table\"}]},\"layout\":{\"annotationdefaults\":{\"arrowcolor\":\"#2a3f5f\",\"arrowhead\":0,\"arrowwidth\":1},\"autotypenumbers\":\"strict\",\"coloraxis\":{\"colorbar\":{\"outlinewidth\":0,\"ticks\":\"\"}},\"colorscale\":{\"diverging\":[[0,\"#8e0152\"],[0.1,\"#c51b7d\"],[0.2,\"#de77ae\"],[0.3,\"#f1b6da\"],[0.4,\"#fde0ef\"],[0.5,\"#f7f7f7\"],[0.6,\"#e6f5d0\"],[0.7,\"#b8e186\"],[0.8,\"#7fbc41\"],[0.9,\"#4d9221\"],[1,\"#276419\"]],\"sequential\":[[0.0,\"#0d0887\"],[0.1111111111111111,\"#46039f\"],[0.2222222222222222,\"#7201a8\"],[0.3333333333333333,\"#9c179e\"],[0.4444444444444444,\"#bd3786\"],[0.5555555555555556,\"#d8576b\"],[0.6666666666666666,\"#ed7953\"],[0.7777777777777778,\"#fb9f3a\"],[0.8888888888888888,\"#fdca26\"],[1.0,\"#f0f921\"]],\"sequentialminus\":[[0.0,\"#0d0887\"],[0.1111111111111111,\"#46039f\"],[0.2222222222222222,\"#7201a8\"],[0.3333333333333333,\"#9c179e\"],[0.4444444444444444,\"#bd3786\"],[0.5555555555555556,\"#d8576b\"],[0.6666666666666666,\"#ed7953\"],[0.7777777777777778,\"#fb9f3a\"],[0.8888888888888888,\"#fdca26\"],[1.0,\"#f0f921\"]]},\"colorway\":[\"#636efa\",\"#EF553B\",\"#00cc96\",\"#ab63fa\",\"#FFA15A\",\"#19d3f3\",\"#FF6692\",\"#B6E880\",\"#FF97FF\",\"#FECB52\"],\"font\":{\"color\":\"#2a3f5f\"},\"geo\":{\"bgcolor\":\"white\",\"lakecolor\":\"white\",\"landcolor\":\"#E5ECF6\",\"showlakes\":true,\"showland\":true,\"subunitcolor\":\"white\"},\"hoverlabel\":{\"align\":\"left\"},\"hovermode\":\"closest\",\"mapbox\":{\"style\":\"light\"},\"paper_bgcolor\":\"white\",\"plot_bgcolor\":\"#E5ECF6\",\"polar\":{\"angularaxis\":{\"gridcolor\":\"white\",\"linecolor\":\"white\",\"ticks\":\"\"},\"bgcolor\":\"#E5ECF6\",\"radialaxis\":{\"gridcolor\":\"white\",\"linecolor\":\"white\",\"ticks\":\"\"}},\"scene\":{\"xaxis\":{\"backgroundcolor\":\"#E5ECF6\",\"gridcolor\":\"white\",\"gridwidth\":2,\"linecolor\":\"white\",\"showbackground\":true,\"ticks\":\"\",\"zerolinecolor\":\"white\"},\"yaxis\":{\"backgroundcolor\":\"#E5ECF6\",\"gridcolor\":\"white\",\"gridwidth\":2,\"linecolor\":\"white\",\"showbackground\":true,\"ticks\":\"\",\"zerolinecolor\":\"white\"},\"zaxis\":{\"backgroundcolor\":\"#E5ECF6\",\"gridcolor\":\"white\",\"gridwidth\":2,\"linecolor\":\"white\",\"showbackground\":true,\"ticks\":\"\",\"zerolinecolor\":\"white\"}},\"shapedefaults\":{\"line\":{\"color\":\"#2a3f5f\"}},\"ternary\":{\"aaxis\":{\"gridcolor\":\"white\",\"linecolor\":\"white\",\"ticks\":\"\"},\"baxis\":{\"gridcolor\":\"white\",\"linecolor\":\"white\",\"ticks\":\"\"},\"bgcolor\":\"#E5ECF6\",\"caxis\":{\"gridcolor\":\"white\",\"linecolor\":\"white\",\"ticks\":\"\"}},\"title\":{\"x\":0.05},\"xaxis\":{\"automargin\":true,\"gridcolor\":\"white\",\"linecolor\":\"white\",\"ticks\":\"\",\"title\":{\"standoff\":15},\"zerolinecolor\":\"white\",\"zerolinewidth\":2},\"yaxis\":{\"automargin\":true,\"gridcolor\":\"white\",\"linecolor\":\"white\",\"ticks\":\"\",\"title\":{\"standoff\":15},\"zerolinecolor\":\"white\",\"zerolinewidth\":2}}},\"xaxis\":{\"anchor\":\"y\",\"domain\":[0.0,1.0],\"title\":{\"text\":\"Province\"}},\"yaxis\":{\"anchor\":\"x\",\"domain\":[0.0,1.0],\"title\":{\"text\":\"GDP\"}},\"legend\":{\"tracegroupgap\":0},\"margin\":{\"t\":60},\"barmode\":\"relative\"},                        {\"responsive\": true}                    ).then(function(){\n",
       "                            \n",
       "var gd = document.getElementById('b0ec5f67-7a0c-432d-afd1-40ca5af6d4cd');\n",
       "var x = new MutationObserver(function (mutations, observer) {{\n",
       "        var display = window.getComputedStyle(gd).display;\n",
       "        if (!display || display === 'none') {{\n",
       "            console.log([gd, 'removed!']);\n",
       "            Plotly.purge(gd);\n",
       "            observer.disconnect();\n",
       "        }}\n",
       "}});\n",
       "\n",
       "// Listen for the removal of the full notebook cells\n",
       "var notebookContainer = gd.closest('#notebook-container');\n",
       "if (notebookContainer) {{\n",
       "    x.observe(notebookContainer, {childList: true});\n",
       "}}\n",
       "\n",
       "// Listen for the clearing of the current output cell\n",
       "var outputEl = gd.closest('.output');\n",
       "if (outputEl) {{\n",
       "    x.observe(outputEl, {childList: true});\n",
       "}}\n",
       "\n",
       "                        })                };                });            </script>        </div>"
      ]
     },
     "metadata": {},
     "output_type": "display_data"
    }
   ],
   "source": [
    "import plotly.express as px\n",
    "PGDP=px.bar(df3,x=\"Province\",y=\"GDP\")\n",
    "PGDP"
   ]
  },
  {
   "cell_type": "code",
   "execution_count": 75,
   "id": "088d71f4-6141-44aa-9327-ac6b79d201a3",
   "metadata": {},
   "outputs": [
    {
     "data": {
      "application/vnd.plotly.v1+json": {
       "config": {
        "plotlyServerURL": "https://plot.ly"
       },
       "data": [
        {
         "alignmentgroup": "True",
         "hovertemplate": "Province=%{x}<br>Urbanization Rate=%{y}<extra></extra>",
         "legendgroup": "",
         "marker": {
          "color": "#636efa",
          "pattern": {
           "shape": ""
          }
         },
         "name": "",
         "offsetgroup": "",
         "orientation": "v",
         "showlegend": false,
         "textposition": "auto",
         "type": "bar",
         "x": [
          "Beijing",
          "Shanghai",
          "jiangsu",
          "Fujian",
          "Tianjin",
          "Zhejiang",
          "Guangdong",
          "Chongqing",
          "Hubei",
          "Shandong",
          "Inner Mongolia",
          "Shaanxi",
          "Anhui",
          "Hunan",
          "Liaoning",
          "Sichuan",
          "Jiangxi",
          "Henan",
          "Hainan",
          "Ningxia",
          "Xinjiang",
          "Tibet",
          "Yunnan",
          "Qinghai",
          "Jilin",
          "Shanxi",
          "Hebei",
          "Guizhou",
          "Guangxi",
          "Heilongjiang",
          "Gansu"
         ],
         "xaxis": "x",
         "y": [
          87.55,
          89.3,
          73.44,
          68.75,
          84.7,
          72.17,
          74.15,
          69.46,
          62.89,
          63.05,
          67.48,
          62.66,
          58.33,
          58.76,
          72.14,
          56.73,
          50.05,
          55.43,
          60.27,
          64.96,
          56.53,
          35.73,
          50.05,
          60.08,
          62.64,
          62.53,
          60.07,
          53.15,
          54.2,
          65.61,
          52.23
         ],
         "yaxis": "y"
        }
       ],
       "layout": {
        "autosize": true,
        "barmode": "relative",
        "legend": {
         "tracegroupgap": 0
        },
        "margin": {
         "t": 60
        },
        "template": {
         "data": {
          "bar": [
           {
            "error_x": {
             "color": "#2a3f5f"
            },
            "error_y": {
             "color": "#2a3f5f"
            },
            "marker": {
             "line": {
              "color": "#E5ECF6",
              "width": 0.5
             },
             "pattern": {
              "fillmode": "overlay",
              "size": 10,
              "solidity": 0.2
             }
            },
            "type": "bar"
           }
          ],
          "barpolar": [
           {
            "marker": {
             "line": {
              "color": "#E5ECF6",
              "width": 0.5
             },
             "pattern": {
              "fillmode": "overlay",
              "size": 10,
              "solidity": 0.2
             }
            },
            "type": "barpolar"
           }
          ],
          "carpet": [
           {
            "aaxis": {
             "endlinecolor": "#2a3f5f",
             "gridcolor": "white",
             "linecolor": "white",
             "minorgridcolor": "white",
             "startlinecolor": "#2a3f5f"
            },
            "baxis": {
             "endlinecolor": "#2a3f5f",
             "gridcolor": "white",
             "linecolor": "white",
             "minorgridcolor": "white",
             "startlinecolor": "#2a3f5f"
            },
            "type": "carpet"
           }
          ],
          "choropleth": [
           {
            "colorbar": {
             "outlinewidth": 0,
             "ticks": ""
            },
            "type": "choropleth"
           }
          ],
          "contour": [
           {
            "colorbar": {
             "outlinewidth": 0,
             "ticks": ""
            },
            "colorscale": [
             [
              0,
              "#0d0887"
             ],
             [
              0.1111111111111111,
              "#46039f"
             ],
             [
              0.2222222222222222,
              "#7201a8"
             ],
             [
              0.3333333333333333,
              "#9c179e"
             ],
             [
              0.4444444444444444,
              "#bd3786"
             ],
             [
              0.5555555555555556,
              "#d8576b"
             ],
             [
              0.6666666666666666,
              "#ed7953"
             ],
             [
              0.7777777777777778,
              "#fb9f3a"
             ],
             [
              0.8888888888888888,
              "#fdca26"
             ],
             [
              1,
              "#f0f921"
             ]
            ],
            "type": "contour"
           }
          ],
          "contourcarpet": [
           {
            "colorbar": {
             "outlinewidth": 0,
             "ticks": ""
            },
            "type": "contourcarpet"
           }
          ],
          "heatmap": [
           {
            "colorbar": {
             "outlinewidth": 0,
             "ticks": ""
            },
            "colorscale": [
             [
              0,
              "#0d0887"
             ],
             [
              0.1111111111111111,
              "#46039f"
             ],
             [
              0.2222222222222222,
              "#7201a8"
             ],
             [
              0.3333333333333333,
              "#9c179e"
             ],
             [
              0.4444444444444444,
              "#bd3786"
             ],
             [
              0.5555555555555556,
              "#d8576b"
             ],
             [
              0.6666666666666666,
              "#ed7953"
             ],
             [
              0.7777777777777778,
              "#fb9f3a"
             ],
             [
              0.8888888888888888,
              "#fdca26"
             ],
             [
              1,
              "#f0f921"
             ]
            ],
            "type": "heatmap"
           }
          ],
          "heatmapgl": [
           {
            "colorbar": {
             "outlinewidth": 0,
             "ticks": ""
            },
            "colorscale": [
             [
              0,
              "#0d0887"
             ],
             [
              0.1111111111111111,
              "#46039f"
             ],
             [
              0.2222222222222222,
              "#7201a8"
             ],
             [
              0.3333333333333333,
              "#9c179e"
             ],
             [
              0.4444444444444444,
              "#bd3786"
             ],
             [
              0.5555555555555556,
              "#d8576b"
             ],
             [
              0.6666666666666666,
              "#ed7953"
             ],
             [
              0.7777777777777778,
              "#fb9f3a"
             ],
             [
              0.8888888888888888,
              "#fdca26"
             ],
             [
              1,
              "#f0f921"
             ]
            ],
            "type": "heatmapgl"
           }
          ],
          "histogram": [
           {
            "marker": {
             "pattern": {
              "fillmode": "overlay",
              "size": 10,
              "solidity": 0.2
             }
            },
            "type": "histogram"
           }
          ],
          "histogram2d": [
           {
            "colorbar": {
             "outlinewidth": 0,
             "ticks": ""
            },
            "colorscale": [
             [
              0,
              "#0d0887"
             ],
             [
              0.1111111111111111,
              "#46039f"
             ],
             [
              0.2222222222222222,
              "#7201a8"
             ],
             [
              0.3333333333333333,
              "#9c179e"
             ],
             [
              0.4444444444444444,
              "#bd3786"
             ],
             [
              0.5555555555555556,
              "#d8576b"
             ],
             [
              0.6666666666666666,
              "#ed7953"
             ],
             [
              0.7777777777777778,
              "#fb9f3a"
             ],
             [
              0.8888888888888888,
              "#fdca26"
             ],
             [
              1,
              "#f0f921"
             ]
            ],
            "type": "histogram2d"
           }
          ],
          "histogram2dcontour": [
           {
            "colorbar": {
             "outlinewidth": 0,
             "ticks": ""
            },
            "colorscale": [
             [
              0,
              "#0d0887"
             ],
             [
              0.1111111111111111,
              "#46039f"
             ],
             [
              0.2222222222222222,
              "#7201a8"
             ],
             [
              0.3333333333333333,
              "#9c179e"
             ],
             [
              0.4444444444444444,
              "#bd3786"
             ],
             [
              0.5555555555555556,
              "#d8576b"
             ],
             [
              0.6666666666666666,
              "#ed7953"
             ],
             [
              0.7777777777777778,
              "#fb9f3a"
             ],
             [
              0.8888888888888888,
              "#fdca26"
             ],
             [
              1,
              "#f0f921"
             ]
            ],
            "type": "histogram2dcontour"
           }
          ],
          "mesh3d": [
           {
            "colorbar": {
             "outlinewidth": 0,
             "ticks": ""
            },
            "type": "mesh3d"
           }
          ],
          "parcoords": [
           {
            "line": {
             "colorbar": {
              "outlinewidth": 0,
              "ticks": ""
             }
            },
            "type": "parcoords"
           }
          ],
          "pie": [
           {
            "automargin": true,
            "type": "pie"
           }
          ],
          "scatter": [
           {
            "marker": {
             "colorbar": {
              "outlinewidth": 0,
              "ticks": ""
             }
            },
            "type": "scatter"
           }
          ],
          "scatter3d": [
           {
            "line": {
             "colorbar": {
              "outlinewidth": 0,
              "ticks": ""
             }
            },
            "marker": {
             "colorbar": {
              "outlinewidth": 0,
              "ticks": ""
             }
            },
            "type": "scatter3d"
           }
          ],
          "scattercarpet": [
           {
            "marker": {
             "colorbar": {
              "outlinewidth": 0,
              "ticks": ""
             }
            },
            "type": "scattercarpet"
           }
          ],
          "scattergeo": [
           {
            "marker": {
             "colorbar": {
              "outlinewidth": 0,
              "ticks": ""
             }
            },
            "type": "scattergeo"
           }
          ],
          "scattergl": [
           {
            "marker": {
             "colorbar": {
              "outlinewidth": 0,
              "ticks": ""
             }
            },
            "type": "scattergl"
           }
          ],
          "scattermapbox": [
           {
            "marker": {
             "colorbar": {
              "outlinewidth": 0,
              "ticks": ""
             }
            },
            "type": "scattermapbox"
           }
          ],
          "scatterpolar": [
           {
            "marker": {
             "colorbar": {
              "outlinewidth": 0,
              "ticks": ""
             }
            },
            "type": "scatterpolar"
           }
          ],
          "scatterpolargl": [
           {
            "marker": {
             "colorbar": {
              "outlinewidth": 0,
              "ticks": ""
             }
            },
            "type": "scatterpolargl"
           }
          ],
          "scatterternary": [
           {
            "marker": {
             "colorbar": {
              "outlinewidth": 0,
              "ticks": ""
             }
            },
            "type": "scatterternary"
           }
          ],
          "surface": [
           {
            "colorbar": {
             "outlinewidth": 0,
             "ticks": ""
            },
            "colorscale": [
             [
              0,
              "#0d0887"
             ],
             [
              0.1111111111111111,
              "#46039f"
             ],
             [
              0.2222222222222222,
              "#7201a8"
             ],
             [
              0.3333333333333333,
              "#9c179e"
             ],
             [
              0.4444444444444444,
              "#bd3786"
             ],
             [
              0.5555555555555556,
              "#d8576b"
             ],
             [
              0.6666666666666666,
              "#ed7953"
             ],
             [
              0.7777777777777778,
              "#fb9f3a"
             ],
             [
              0.8888888888888888,
              "#fdca26"
             ],
             [
              1,
              "#f0f921"
             ]
            ],
            "type": "surface"
           }
          ],
          "table": [
           {
            "cells": {
             "fill": {
              "color": "#EBF0F8"
             },
             "line": {
              "color": "white"
             }
            },
            "header": {
             "fill": {
              "color": "#C8D4E3"
             },
             "line": {
              "color": "white"
             }
            },
            "type": "table"
           }
          ]
         },
         "layout": {
          "annotationdefaults": {
           "arrowcolor": "#2a3f5f",
           "arrowhead": 0,
           "arrowwidth": 1
          },
          "autotypenumbers": "strict",
          "coloraxis": {
           "colorbar": {
            "outlinewidth": 0,
            "ticks": ""
           }
          },
          "colorscale": {
           "diverging": [
            [
             0,
             "#8e0152"
            ],
            [
             0.1,
             "#c51b7d"
            ],
            [
             0.2,
             "#de77ae"
            ],
            [
             0.3,
             "#f1b6da"
            ],
            [
             0.4,
             "#fde0ef"
            ],
            [
             0.5,
             "#f7f7f7"
            ],
            [
             0.6,
             "#e6f5d0"
            ],
            [
             0.7,
             "#b8e186"
            ],
            [
             0.8,
             "#7fbc41"
            ],
            [
             0.9,
             "#4d9221"
            ],
            [
             1,
             "#276419"
            ]
           ],
           "sequential": [
            [
             0,
             "#0d0887"
            ],
            [
             0.1111111111111111,
             "#46039f"
            ],
            [
             0.2222222222222222,
             "#7201a8"
            ],
            [
             0.3333333333333333,
             "#9c179e"
            ],
            [
             0.4444444444444444,
             "#bd3786"
            ],
            [
             0.5555555555555556,
             "#d8576b"
            ],
            [
             0.6666666666666666,
             "#ed7953"
            ],
            [
             0.7777777777777778,
             "#fb9f3a"
            ],
            [
             0.8888888888888888,
             "#fdca26"
            ],
            [
             1,
             "#f0f921"
            ]
           ],
           "sequentialminus": [
            [
             0,
             "#0d0887"
            ],
            [
             0.1111111111111111,
             "#46039f"
            ],
            [
             0.2222222222222222,
             "#7201a8"
            ],
            [
             0.3333333333333333,
             "#9c179e"
            ],
            [
             0.4444444444444444,
             "#bd3786"
            ],
            [
             0.5555555555555556,
             "#d8576b"
            ],
            [
             0.6666666666666666,
             "#ed7953"
            ],
            [
             0.7777777777777778,
             "#fb9f3a"
            ],
            [
             0.8888888888888888,
             "#fdca26"
            ],
            [
             1,
             "#f0f921"
            ]
           ]
          },
          "colorway": [
           "#636efa",
           "#EF553B",
           "#00cc96",
           "#ab63fa",
           "#FFA15A",
           "#19d3f3",
           "#FF6692",
           "#B6E880",
           "#FF97FF",
           "#FECB52"
          ],
          "font": {
           "color": "#2a3f5f"
          },
          "geo": {
           "bgcolor": "white",
           "lakecolor": "white",
           "landcolor": "#E5ECF6",
           "showlakes": true,
           "showland": true,
           "subunitcolor": "white"
          },
          "hoverlabel": {
           "align": "left"
          },
          "hovermode": "closest",
          "mapbox": {
           "style": "light"
          },
          "paper_bgcolor": "white",
          "plot_bgcolor": "#E5ECF6",
          "polar": {
           "angularaxis": {
            "gridcolor": "white",
            "linecolor": "white",
            "ticks": ""
           },
           "bgcolor": "#E5ECF6",
           "radialaxis": {
            "gridcolor": "white",
            "linecolor": "white",
            "ticks": ""
           }
          },
          "scene": {
           "xaxis": {
            "backgroundcolor": "#E5ECF6",
            "gridcolor": "white",
            "gridwidth": 2,
            "linecolor": "white",
            "showbackground": true,
            "ticks": "",
            "zerolinecolor": "white"
           },
           "yaxis": {
            "backgroundcolor": "#E5ECF6",
            "gridcolor": "white",
            "gridwidth": 2,
            "linecolor": "white",
            "showbackground": true,
            "ticks": "",
            "zerolinecolor": "white"
           },
           "zaxis": {
            "backgroundcolor": "#E5ECF6",
            "gridcolor": "white",
            "gridwidth": 2,
            "linecolor": "white",
            "showbackground": true,
            "ticks": "",
            "zerolinecolor": "white"
           }
          },
          "shapedefaults": {
           "line": {
            "color": "#2a3f5f"
           }
          },
          "ternary": {
           "aaxis": {
            "gridcolor": "white",
            "linecolor": "white",
            "ticks": ""
           },
           "baxis": {
            "gridcolor": "white",
            "linecolor": "white",
            "ticks": ""
           },
           "bgcolor": "#E5ECF6",
           "caxis": {
            "gridcolor": "white",
            "linecolor": "white",
            "ticks": ""
           }
          },
          "title": {
           "x": 0.05
          },
          "xaxis": {
           "automargin": true,
           "gridcolor": "white",
           "linecolor": "white",
           "ticks": "",
           "title": {
            "standoff": 15
           },
           "zerolinecolor": "white",
           "zerolinewidth": 2
          },
          "yaxis": {
           "automargin": true,
           "gridcolor": "white",
           "linecolor": "white",
           "ticks": "",
           "title": {
            "standoff": 15
           },
           "zerolinecolor": "white",
           "zerolinewidth": 2
          }
         }
        },
        "xaxis": {
         "anchor": "y",
         "autorange": true,
         "domain": [
          0,
          1
         ],
         "range": [
          -0.5,
          30.5
         ],
         "title": {
          "text": "Province"
         },
         "type": "category"
        },
        "yaxis": {
         "anchor": "x",
         "autorange": true,
         "domain": [
          0,
          1
         ],
         "range": [
          0,
          94
         ],
         "title": {
          "text": "Urbanization Rate"
         },
         "type": "linear"
        }
       }
      },
      "image/png": "[encoded data removed]",
      "text/html": [
       "<div>                            <div id=\"180a7690-bec0-4b47-be3b-d1f446e56a54\" class=\"plotly-graph-div\" style=\"height:525px; width:100%;\"></div>            <script type=\"text/javascript\">                require([\"plotly\"], function(Plotly) {                    window.PLOTLYENV=window.PLOTLYENV || {};                                    if (document.getElementById(\"180a7690-bec0-4b47-be3b-d1f446e56a54\")) {                    Plotly.newPlot(                        \"180a7690-bec0-4b47-be3b-d1f446e56a54\",                        [{\"alignmentgroup\":\"True\",\"hovertemplate\":\"Province=%{x}<br>Urbanization Rate=%{y}<extra></extra>\",\"legendgroup\":\"\",\"marker\":{\"color\":\"#636efa\",\"pattern\":{\"shape\":\"\"}},\"name\":\"\",\"offsetgroup\":\"\",\"orientation\":\"v\",\"showlegend\":false,\"textposition\":\"auto\",\"x\":[\"Beijing\",\"Shanghai\",\"jiangsu\",\"Fujian\",\"Tianjin\",\"Zhejiang\",\"Guangdong\",\"Chongqing\",\"Hubei\",\"Shandong\",\"Inner Mongolia\",\"Shaanxi\",\"Anhui\",\"Hunan\",\"Liaoning\",\"Sichuan\",\"Jiangxi\",\"Henan\",\"Hainan\",\"Ningxia\",\"Xinjiang\",\"Tibet\",\"Yunnan\",\"Qinghai\",\"Jilin\",\"Shanxi\",\"Hebei\",\"Guizhou\",\"Guangxi\",\"Heilongjiang\",\"Gansu\"],\"xaxis\":\"x\",\"y\":[87.55,89.3,73.44,68.75,84.7,72.17,74.15,69.46,62.89,63.05,67.48,62.66,58.33,58.76,72.14,56.73,50.05,55.43,60.27,64.96,56.53,35.73,50.05,60.08,62.64,62.53,60.07,53.15,54.2,65.61,52.23],\"yaxis\":\"y\",\"type\":\"bar\"}],                        {\"template\":{\"data\":{\"bar\":[{\"error_x\":{\"color\":\"#2a3f5f\"},\"error_y\":{\"color\":\"#2a3f5f\"},\"marker\":{\"line\":{\"color\":\"#E5ECF6\",\"width\":0.5},\"pattern\":{\"fillmode\":\"overlay\",\"size\":10,\"solidity\":0.2}},\"type\":\"bar\"}],\"barpolar\":[{\"marker\":{\"line\":{\"color\":\"#E5ECF6\",\"width\":0.5},\"pattern\":{\"fillmode\":\"overlay\",\"size\":10,\"solidity\":0.2}},\"type\":\"barpolar\"}],\"carpet\":[{\"aaxis\":{\"endlinecolor\":\"#2a3f5f\",\"gridcolor\":\"white\",\"linecolor\":\"white\",\"minorgridcolor\":\"white\",\"startlinecolor\":\"#2a3f5f\"},\"baxis\":{\"endlinecolor\":\"#2a3f5f\",\"gridcolor\":\"white\",\"linecolor\":\"white\",\"minorgridcolor\":\"white\",\"startlinecolor\":\"#2a3f5f\"},\"type\":\"carpet\"}],\"choropleth\":[{\"colorbar\":{\"outlinewidth\":0,\"ticks\":\"\"},\"type\":\"choropleth\"}],\"contour\":[{\"colorbar\":{\"outlinewidth\":0,\"ticks\":\"\"},\"colorscale\":[[0.0,\"#0d0887\"],[0.1111111111111111,\"#46039f\"],[0.2222222222222222,\"#7201a8\"],[0.3333333333333333,\"#9c179e\"],[0.4444444444444444,\"#bd3786\"],[0.5555555555555556,\"#d8576b\"],[0.6666666666666666,\"#ed7953\"],[0.7777777777777778,\"#fb9f3a\"],[0.8888888888888888,\"#fdca26\"],[1.0,\"#f0f921\"]],\"type\":\"contour\"}],\"contourcarpet\":[{\"colorbar\":{\"outlinewidth\":0,\"ticks\":\"\"},\"type\":\"contourcarpet\"}],\"heatmap\":[{\"colorbar\":{\"outlinewidth\":0,\"ticks\":\"\"},\"colorscale\":[[0.0,\"#0d0887\"],[0.1111111111111111,\"#46039f\"],[0.2222222222222222,\"#7201a8\"],[0.3333333333333333,\"#9c179e\"],[0.4444444444444444,\"#bd3786\"],[0.5555555555555556,\"#d8576b\"],[0.6666666666666666,\"#ed7953\"],[0.7777777777777778,\"#fb9f3a\"],[0.8888888888888888,\"#fdca26\"],[1.0,\"#f0f921\"]],\"type\":\"heatmap\"}],\"heatmapgl\":[{\"colorbar\":{\"outlinewidth\":0,\"ticks\":\"\"},\"colorscale\":[[0.0,\"#0d0887\"],[0.1111111111111111,\"#46039f\"],[0.2222222222222222,\"#7201a8\"],[0.3333333333333333,\"#9c179e\"],[0.4444444444444444,\"#bd3786\"],[0.5555555555555556,\"#d8576b\"],[0.6666666666666666,\"#ed7953\"],[0.7777777777777778,\"#fb9f3a\"],[0.8888888888888888,\"#fdca26\"],[1.0,\"#f0f921\"]],\"type\":\"heatmapgl\"}],\"histogram\":[{\"marker\":{\"pattern\":{\"fillmode\":\"overlay\",\"size\":10,\"solidity\":0.2}},\"type\":\"histogram\"}],\"histogram2d\":[{\"colorbar\":{\"outlinewidth\":0,\"ticks\":\"\"},\"colorscale\":[[0.0,\"#0d0887\"],[0.1111111111111111,\"#46039f\"],[0.2222222222222222,\"#7201a8\"],[0.3333333333333333,\"#9c179e\"],[0.4444444444444444,\"#bd3786\"],[0.5555555555555556,\"#d8576b\"],[0.6666666666666666,\"#ed7953\"],[0.7777777777777778,\"#fb9f3a\"],[0.8888888888888888,\"#fdca26\"],[1.0,\"#f0f921\"]],\"type\":\"histogram2d\"}],\"histogram2dcontour\":[{\"colorbar\":{\"outlinewidth\":0,\"ticks\":\"\"},\"colorscale\":[[0.0,\"#0d0887\"],[0.1111111111111111,\"#46039f\"],[0.2222222222222222,\"#7201a8\"],[0.3333333333333333,\"#9c179e\"],[0.4444444444444444,\"#bd3786\"],[0.5555555555555556,\"#d8576b\"],[0.6666666666666666,\"#ed7953\"],[0.7777777777777778,\"#fb9f3a\"],[0.8888888888888888,\"#fdca26\"],[1.0,\"#f0f921\"]],\"type\":\"histogram2dcontour\"}],\"mesh3d\":[{\"colorbar\":{\"outlinewidth\":0,\"ticks\":\"\"},\"type\":\"mesh3d\"}],\"parcoords\":[{\"line\":{\"colorbar\":{\"outlinewidth\":0,\"ticks\":\"\"}},\"type\":\"parcoords\"}],\"pie\":[{\"automargin\":true,\"type\":\"pie\"}],\"scatter\":[{\"marker\":{\"colorbar\":{\"outlinewidth\":0,\"ticks\":\"\"}},\"type\":\"scatter\"}],\"scatter3d\":[{\"line\":{\"colorbar\":{\"outlinewidth\":0,\"ticks\":\"\"}},\"marker\":{\"colorbar\":{\"outlinewidth\":0,\"ticks\":\"\"}},\"type\":\"scatter3d\"}],\"scattercarpet\":[{\"marker\":{\"colorbar\":{\"outlinewidth\":0,\"ticks\":\"\"}},\"type\":\"scattercarpet\"}],\"scattergeo\":[{\"marker\":{\"colorbar\":{\"outlinewidth\":0,\"ticks\":\"\"}},\"type\":\"scattergeo\"}],\"scattergl\":[{\"marker\":{\"colorbar\":{\"outlinewidth\":0,\"ticks\":\"\"}},\"type\":\"scattergl\"}],\"scattermapbox\":[{\"marker\":{\"colorbar\":{\"outlinewidth\":0,\"ticks\":\"\"}},\"type\":\"scattermapbox\"}],\"scatterpolar\":[{\"marker\":{\"colorbar\":{\"outlinewidth\":0,\"ticks\":\"\"}},\"type\":\"scatterpolar\"}],\"scatterpolargl\":[{\"marker\":{\"colorbar\":{\"outlinewidth\":0,\"ticks\":\"\"}},\"type\":\"scatterpolargl\"}],\"scatterternary\":[{\"marker\":{\"colorbar\":{\"outlinewidth\":0,\"ticks\":\"\"}},\"type\":\"scatterternary\"}],\"surface\":[{\"colorbar\":{\"outlinewidth\":0,\"ticks\":\"\"},\"colorscale\":[[0.0,\"#0d0887\"],[0.1111111111111111,\"#46039f\"],[0.2222222222222222,\"#7201a8\"],[0.3333333333333333,\"#9c179e\"],[0.4444444444444444,\"#bd3786\"],[0.5555555555555556,\"#d8576b\"],[0.6666666666666666,\"#ed7953\"],[0.7777777777777778,\"#fb9f3a\"],[0.8888888888888888,\"#fdca26\"],[1.0,\"#f0f921\"]],\"type\":\"surface\"}],\"table\":[{\"cells\":{\"fill\":{\"color\":\"#EBF0F8\"},\"line\":{\"color\":\"white\"}},\"header\":{\"fill\":{\"color\":\"#C8D4E3\"},\"line\":{\"color\":\"white\"}},\"type\":\"table\"}]},\"layout\":{\"annotationdefaults\":{\"arrowcolor\":\"#2a3f5f\",\"arrowhead\":0,\"arrowwidth\":1},\"autotypenumbers\":\"strict\",\"coloraxis\":{\"colorbar\":{\"outlinewidth\":0,\"ticks\":\"\"}},\"colorscale\":{\"diverging\":[[0,\"#8e0152\"],[0.1,\"#c51b7d\"],[0.2,\"#de77ae\"],[0.3,\"#f1b6da\"],[0.4,\"#fde0ef\"],[0.5,\"#f7f7f7\"],[0.6,\"#e6f5d0\"],[0.7,\"#b8e186\"],[0.8,\"#7fbc41\"],[0.9,\"#4d9221\"],[1,\"#276419\"]],\"sequential\":[[0.0,\"#0d0887\"],[0.1111111111111111,\"#46039f\"],[0.2222222222222222,\"#7201a8\"],[0.3333333333333333,\"#9c179e\"],[0.4444444444444444,\"#bd3786\"],[0.5555555555555556,\"#d8576b\"],[0.6666666666666666,\"#ed7953\"],[0.7777777777777778,\"#fb9f3a\"],[0.8888888888888888,\"#fdca26\"],[1.0,\"#f0f921\"]],\"sequentialminus\":[[0.0,\"#0d0887\"],[0.1111111111111111,\"#46039f\"],[0.2222222222222222,\"#7201a8\"],[0.3333333333333333,\"#9c179e\"],[0.4444444444444444,\"#bd3786\"],[0.5555555555555556,\"#d8576b\"],[0.6666666666666666,\"#ed7953\"],[0.7777777777777778,\"#fb9f3a\"],[0.8888888888888888,\"#fdca26\"],[1.0,\"#f0f921\"]]},\"colorway\":[\"#636efa\",\"#EF553B\",\"#00cc96\",\"#ab63fa\",\"#FFA15A\",\"#19d3f3\",\"#FF6692\",\"#B6E880\",\"#FF97FF\",\"#FECB52\"],\"font\":{\"color\":\"#2a3f5f\"},\"geo\":{\"bgcolor\":\"white\",\"lakecolor\":\"white\",\"landcolor\":\"#E5ECF6\",\"showlakes\":true,\"showland\":true,\"subunitcolor\":\"white\"},\"hoverlabel\":{\"align\":\"left\"},\"hovermode\":\"closest\",\"mapbox\":{\"style\":\"light\"},\"paper_bgcolor\":\"white\",\"plot_bgcolor\":\"#E5ECF6\",\"polar\":{\"angularaxis\":{\"gridcolor\":\"white\",\"linecolor\":\"white\",\"ticks\":\"\"},\"bgcolor\":\"#E5ECF6\",\"radialaxis\":{\"gridcolor\":\"white\",\"linecolor\":\"white\",\"ticks\":\"\"}},\"scene\":{\"xaxis\":{\"backgroundcolor\":\"#E5ECF6\",\"gridcolor\":\"white\",\"gridwidth\":2,\"linecolor\":\"white\",\"showbackground\":true,\"ticks\":\"\",\"zerolinecolor\":\"white\"},\"yaxis\":{\"backgroundcolor\":\"#E5ECF6\",\"gridcolor\":\"white\",\"gridwidth\":2,\"linecolor\":\"white\",\"showbackground\":true,\"ticks\":\"\",\"zerolinecolor\":\"white\"},\"zaxis\":{\"backgroundcolor\":\"#E5ECF6\",\"gridcolor\":\"white\",\"gridwidth\":2,\"linecolor\":\"white\",\"showbackground\":true,\"ticks\":\"\",\"zerolinecolor\":\"white\"}},\"shapedefaults\":{\"line\":{\"color\":\"#2a3f5f\"}},\"ternary\":{\"aaxis\":{\"gridcolor\":\"white\",\"linecolor\":\"white\",\"ticks\":\"\"},\"baxis\":{\"gridcolor\":\"white\",\"linecolor\":\"white\",\"ticks\":\"\"},\"bgcolor\":\"#E5ECF6\",\"caxis\":{\"gridcolor\":\"white\",\"linecolor\":\"white\",\"ticks\":\"\"}},\"title\":{\"x\":0.05},\"xaxis\":{\"automargin\":true,\"gridcolor\":\"white\",\"linecolor\":\"white\",\"ticks\":\"\",\"title\":{\"standoff\":15},\"zerolinecolor\":\"white\",\"zerolinewidth\":2},\"yaxis\":{\"automargin\":true,\"gridcolor\":\"white\",\"linecolor\":\"white\",\"ticks\":\"\",\"title\":{\"standoff\":15},\"zerolinecolor\":\"white\",\"zerolinewidth\":2}}},\"xaxis\":{\"anchor\":\"y\",\"domain\":[0.0,1.0],\"title\":{\"text\":\"Province\"}},\"yaxis\":{\"anchor\":\"x\",\"domain\":[0.0,1.0],\"title\":{\"text\":\"Urbanization Rate\"}},\"legend\":{\"tracegroupgap\":0},\"margin\":{\"t\":60},\"barmode\":\"relative\"},                        {\"responsive\": true}                    ).then(function(){\n",
       "                            \n",
       "var gd = document.getElementById('180a7690-bec0-4b47-be3b-d1f446e56a54');\n",
       "var x = new MutationObserver(function (mutations, observer) {{\n",
       "        var display = window.getComputedStyle(gd).display;\n",
       "        if (!display || display === 'none') {{\n",
       "            console.log([gd, 'removed!']);\n",
       "            Plotly.purge(gd);\n",
       "            observer.disconnect();\n",
       "        }}\n",
       "}});\n",
       "\n",
       "// Listen for the removal of the full notebook cells\n",
       "var notebookContainer = gd.closest('#notebook-container');\n",
       "if (notebookContainer) {{\n",
       "    x.observe(notebookContainer, {childList: true});\n",
       "}}\n",
       "\n",
       "// Listen for the clearing of the current output cell\n",
       "var outputEl = gd.closest('.output');\n",
       "if (outputEl) {{\n",
       "    x.observe(outputEl, {childList: true});\n",
       "}}\n",
       "\n",
       "                        })                };                });            </script>        </div>"
      ]
     },
     "metadata": {},
     "output_type": "display_data"
    }
   ],
   "source": [
    "PUR=px.bar(df3,x=\"Province\",y=\"Urbanization Rate\")\n",
    "PUR"
   ]
  },
  {
   "cell_type": "markdown",
   "id": "e436b783-a4f0-461d-ad86-232a2e24a8e8",
   "metadata": {},
   "source": [
    "With provincial data, we can use simple regression model to show the linear relationship between GDP and urbanization rate.    \n",
    "However, simple linear regression is not a very good model here, because there are few data and only one independent variable, the prediction accuracy is relatively low.   \n",
    "We can observe the raw relationship between urbanization rate and GDP."
   ]
  },
  {
   "cell_type": "code",
   "execution_count": 90,
   "id": "ccfe6f76-f56b-4135-9896-bc4cc1574fcd",
   "metadata": {},
   "outputs": [
    {
     "data": {
      "text/plain": [
       "<seaborn.axisgrid.FacetGrid at 0x7fd2c88590d0>"
      ]
     },
     "execution_count": 90,
     "metadata": {},
     "output_type": "execute_result"
    },
    {
     "data": {
      "image/png": "[encoded data removed]",
      "text/plain": [
       "<Figure size 504x504 with 1 Axes>"
      ]
     },
     "metadata": {
      "needs_background": "light"
     },
     "output_type": "display_data"
    }
   ],
   "source": [
    "import seaborn as sns\n",
    "sns.lmplot(data=df3,x=\"Urbanization Rate\", y=\"GDP\", height=7, scatter_kws = dict(s=8, alpha=1, color = colors[2]),\n",
    "          line_kws={\"color\":colors[1],\"alpha\":1,\"lw\":3}).set(title=\"The Relationship Between Provintial GDP and Urbanization Rate\")\n"
   ]
  },
  {
   "cell_type": "markdown",
   "id": "2ede47cd-f367-4d33-abaf-4b5bf8c51390",
   "metadata": {},
   "source": [
    "By this simple linear regression model, we can observe that there has a positive relationship between provincial urbanization rate and GDP.    \n",
    "Therefore, the urbanization rate and GDP are positively related. "
   ]
  },
  {
   "cell_type": "markdown",
   "id": "b52ba356-e81a-4751-9e65-aca04154546d",
   "metadata": {},
   "source": [
    "## 4. How Urbanization Changes People's life\n",
    "### - Different Proportion of consumption between Urban and Rural Households"
   ]
  },
  {
   "cell_type": "code",
   "execution_count": 102,
   "id": "75c104c8-c6a3-4efc-aaaa-915c5ba4c0d6",
   "metadata": {
    "tags": []
   },
   "outputs": [
    {
     "data": {
      "text/html": [
       "<div>\n",
       "<style scoped>\n",
       "    .dataframe tbody tr th:only-of-type {\n",
       "        vertical-align: middle;\n",
       "    }\n",
       "\n",
       "    .dataframe tbody tr th {\n",
       "        vertical-align: top;\n",
       "    }\n",
       "\n",
       "    .dataframe thead th {\n",
       "        text-align: right;\n",
       "    }\n",
       "</style>\n",
       "<table border=\"1\" class=\"dataframe\">\n",
       "  <thead>\n",
       "    <tr style=\"text-align: right;\">\n",
       "      <th></th>\n",
       "      <th>Varities</th>\n",
       "      <th>Urban Households(%)</th>\n",
       "      <th>Rural Households(%)</th>\n",
       "    </tr>\n",
       "  </thead>\n",
       "  <tbody>\n",
       "    <tr>\n",
       "      <th>0</th>\n",
       "      <td>ftl</td>\n",
       "      <td>28.6</td>\n",
       "      <td>32.7</td>\n",
       "    </tr>\n",
       "    <tr>\n",
       "      <th>1</th>\n",
       "      <td>res</td>\n",
       "      <td>24.4</td>\n",
       "      <td>20.8</td>\n",
       "    </tr>\n",
       "    <tr>\n",
       "      <th>2</th>\n",
       "      <td>tc</td>\n",
       "      <td>13.0</td>\n",
       "      <td>13.4</td>\n",
       "    </tr>\n",
       "    <tr>\n",
       "      <th>3</th>\n",
       "      <td>ecr</td>\n",
       "      <td>11.0</td>\n",
       "      <td>10.3</td>\n",
       "    </tr>\n",
       "    <tr>\n",
       "      <th>4</th>\n",
       "      <td>hms</td>\n",
       "      <td>8.3</td>\n",
       "      <td>9.9</td>\n",
       "    </tr>\n",
       "    <tr>\n",
       "      <th>5</th>\n",
       "      <td>cf</td>\n",
       "      <td>6.1</td>\n",
       "      <td>5.4</td>\n",
       "    </tr>\n",
       "    <tr>\n",
       "      <th>6</th>\n",
       "      <td>hfas</td>\n",
       "      <td>6.0</td>\n",
       "      <td>5.7</td>\n",
       "    </tr>\n",
       "    <tr>\n",
       "      <th>7</th>\n",
       "      <td>mgs</td>\n",
       "      <td>2.6</td>\n",
       "      <td>1.8</td>\n",
       "    </tr>\n",
       "  </tbody>\n",
       "</table>\n",
       "</div>"
      ],
      "text/plain": [
       "  Varities  Urban Households(%)  Rural Households(%)\n",
       "0      ftl                 28.6                 32.7\n",
       "1      res                 24.4                 20.8\n",
       "2       tc                 13.0                 13.4\n",
       "3      ecr                 11.0                 10.3\n",
       "4      hms                  8.3                  9.9\n",
       "5       cf                  6.1                  5.4\n",
       "6     hfas                  6.0                  5.7\n",
       "7      mgs                  2.6                  1.8"
      ]
     },
     "execution_count": 102,
     "metadata": {},
     "output_type": "execute_result"
    }
   ],
   "source": [
    "# Here, I import another set of data showing the proportion of money spent in different categories by urban and rural population. \n",
    "# Source: https://www.statista.com/statistics/731246/china-structure-of-consumption-expenditure-per-capita/\n",
    "df4 = pd.read_csv(\"https://raw.githubusercontent.com/Jiayiyhy/Jiayiyhy/main/CS%20distribution.csv\",header=0,index_col=False)\n",
    "df4.head(10)\n",
    "# Here are full names of caregories under Varities\n",
    "# ftl: Food, tobacco and liquor\n",
    "# res: Residence\n",
    "# tc: Transport and communication\n",
    "# ecr: Education,culture and recreation\n",
    "# hms: Health care and medical services\n",
    "# cf: Clothing and footwear\n",
    "# hfas: Household facilities, articles and services\n",
    "# mgs: Miscellaneous goods and services"
   ]
  },
  {
   "cell_type": "markdown",
   "id": "ef4ec788-a2fa-42e3-903f-96cb610dee42",
   "metadata": {},
   "source": [
    "This data shows the consumption proportion of different goods, and we can observe the difference of proportion between rural and urban households."
   ]
  },
  {
   "cell_type": "code",
   "execution_count": 103,
   "id": "c44902ee-ec90-4f1e-8b91-a9de32224543",
   "metadata": {},
   "outputs": [
    {
     "data": {
      "text/html": [
       "<div>\n",
       "<style scoped>\n",
       "    .dataframe tbody tr th:only-of-type {\n",
       "        vertical-align: middle;\n",
       "    }\n",
       "\n",
       "    .dataframe tbody tr th {\n",
       "        vertical-align: top;\n",
       "    }\n",
       "\n",
       "    .dataframe thead th {\n",
       "        text-align: right;\n",
       "    }\n",
       "</style>\n",
       "<table border=\"1\" class=\"dataframe\">\n",
       "  <thead>\n",
       "    <tr style=\"text-align: right;\">\n",
       "      <th></th>\n",
       "      <th>vt</th>\n",
       "      <th>uhouse</th>\n",
       "      <th>rhouse</th>\n",
       "    </tr>\n",
       "  </thead>\n",
       "  <tbody>\n",
       "    <tr>\n",
       "      <th>0</th>\n",
       "      <td>ftl</td>\n",
       "      <td>28.6</td>\n",
       "      <td>32.7</td>\n",
       "    </tr>\n",
       "    <tr>\n",
       "      <th>1</th>\n",
       "      <td>res</td>\n",
       "      <td>24.4</td>\n",
       "      <td>20.8</td>\n",
       "    </tr>\n",
       "    <tr>\n",
       "      <th>2</th>\n",
       "      <td>tc</td>\n",
       "      <td>13.0</td>\n",
       "      <td>13.4</td>\n",
       "    </tr>\n",
       "    <tr>\n",
       "      <th>3</th>\n",
       "      <td>ecr</td>\n",
       "      <td>11.0</td>\n",
       "      <td>10.3</td>\n",
       "    </tr>\n",
       "    <tr>\n",
       "      <th>4</th>\n",
       "      <td>hms</td>\n",
       "      <td>8.3</td>\n",
       "      <td>9.9</td>\n",
       "    </tr>\n",
       "    <tr>\n",
       "      <th>5</th>\n",
       "      <td>cf</td>\n",
       "      <td>6.1</td>\n",
       "      <td>5.4</td>\n",
       "    </tr>\n",
       "    <tr>\n",
       "      <th>6</th>\n",
       "      <td>hfas</td>\n",
       "      <td>6.0</td>\n",
       "      <td>5.7</td>\n",
       "    </tr>\n",
       "    <tr>\n",
       "      <th>7</th>\n",
       "      <td>mgs</td>\n",
       "      <td>2.6</td>\n",
       "      <td>1.8</td>\n",
       "    </tr>\n",
       "  </tbody>\n",
       "</table>\n",
       "</div>"
      ],
      "text/plain": [
       "     vt  uhouse  rhouse\n",
       "0   ftl    28.6    32.7\n",
       "1   res    24.4    20.8\n",
       "2    tc    13.0    13.4\n",
       "3   ecr    11.0    10.3\n",
       "4   hms     8.3     9.9\n",
       "5    cf     6.1     5.4\n",
       "6  hfas     6.0     5.7\n",
       "7   mgs     2.6     1.8"
      ]
     },
     "execution_count": 103,
     "metadata": {},
     "output_type": "execute_result"
    }
   ],
   "source": [
    "df4.rename(columns = {'Varities':'vt','Urban Households(%)':'uhouse', 'Rural Households(%)':'rhouse'}, inplace = True)\n",
    "df4.head(10)"
   ]
  },
  {
   "cell_type": "code",
   "execution_count": 104,
   "id": "77f9b49c-1de7-4891-8a8a-4f82c4e9e159",
   "metadata": {},
   "outputs": [
    {
     "data": {
      "image/png": "[encoded data removed]",
      "text/plain": [
       "<Figure size 1152x288 with 2 Axes>"
      ]
     },
     "metadata": {
      "needs_background": "light"
     },
     "output_type": "display_data"
    }
   ],
   "source": [
    "VT = (\"ftl\", \"res\", \"tc\", \"ecr\", \"hms\", \"cf\", \"hfas\", \"mgs\")\n",
    "# \"Food, tobacco and liquor\", \"Residence\", \"Transport and communication\", \"Education,culture and recreation\"  \n",
    "# \"Health care and medical services\", \"Clothing and footwear\", \"Household facilities, articles and services\",\n",
    "# \"Miscellaneous goods and services\")\n",
    "uhouse = [28.6, 24.4, 13, 11, 8.3, 6.1, 6, 2.6]\n",
    "rhouse = [32.7, 20.8, 13.4, 10.3, 9.9, 5.4, 5.7, 1.8]\n",
    "\n",
    "fig,(ax1,ax2)=plt.subplots(1,2,figsize=(16,4))\n",
    "ax1.barh(VT, uhouse, color=colors[6])\n",
    "ax1.title.set_text(\"Urben Household Spending Proportion(%)\") \n",
    "ax2.barh(VT, rhouse, color=colors[1])\n",
    "ax2.title.set_text(\"Rural Household Spending Proportion(%)\") "
   ]
  },
  {
   "cell_type": "code",
   "execution_count": 105,
   "id": "b8120ddc-86d4-47b1-a049-583a954c0416",
   "metadata": {},
   "outputs": [
    {
     "data": {
      "text/plain": [
       "<BarContainer object of 8 artists>"
      ]
     },
     "execution_count": 105,
     "metadata": {},
     "output_type": "execute_result"
    },
    {
     "data": {
      "image/png": "[encoded data removed]",
      "text/plain": [
       "<Figure size 432x288 with 1 Axes>"
      ]
     },
     "metadata": {
      "needs_background": "light"
     },
     "output_type": "display_data"
    }
   ],
   "source": [
    "df4[\"Diff\"]= df4[\"rhouse\"].astype(float)-df4[\"uhouse\"].astype(float)\n",
    "plt.bar(VT, df4.Diff, color=colors[7])"
   ]
  },
  {
   "cell_type": "markdown",
   "id": "f9188110-86e6-4f8c-86c6-ba13420accc1",
   "metadata": {},
   "source": [
    "Rural households spend more on:   \n",
    "- Food, tobacco and liquor\n",
    "- Transport and communication\n",
    "- Health care and medical services\n",
    "\n",
    "Urban households spend more on:    \n",
    "- Residence\n",
    "- Education,culture and recreation\n",
    "- Clothing and footwear\n",
    "- Household facilities, articles and services\n",
    "- Miscellaneous goods and services\n",
    "\n",
    "From the graph we can see rural households will cost more than urban households on basic living needs like food, health care, and transportation.     \n",
    "This also reflected the different living environment between rural life and urban life. Usually, urban life will be more convenient and cheaper."
   ]
  },
  {
   "cell_type": "markdown",
   "id": "088c40c9-9244-4505-a0e9-ba44b15768f4",
   "metadata": {},
   "source": [
    "# Conclusion"
   ]
  },
  {
   "cell_type": "markdown",
   "id": "169cf1ab-c649-49fc-a2d5-26ec4bca8400",
   "metadata": {},
   "source": [
    "To conclude, by analyzing the population data of China, we find that urbanization has become a important trend in China.    \n",
    "Then I use income data of rural and urban area to discuss that the difference of disposable income between rural area and urban area has becoming larger and larger.     \n",
    "After that,  I collected the urbanization data and GDP data of provinces in China and fit a linear regression to find out the relationship between urbanization and GDP, and the results shows that GDP is positively related to urbanization rate.     \n",
    "In the end, the data of expenditure proportion shows the difference of living style and living environment between rural and urban areas. "
   ]
  },
  {
   "cell_type": "markdown",
   "id": "9797ea91-dd4c-414a-b97b-126096f58a88",
   "metadata": {},
   "source": [
    "reference: \n",
    "https://zh.wikipedia.org/w/index.php?title=%E4%B8%AD%E5%8D%8E%E4%BA%BA%E6%B0%91%E5%85%B1%E5%92%8C%E5%9B%BD%E5%9F%8E%E5%B8%82%E5%8C%96&oldid=70000098\n",
    "\n",
    "https://www.statista.com/statistics/731246/china-structure-of-consumption-expenditure-per-capita/\n",
    "\n",
    "http://www.stats.gov.cn/tjsj/ndsj/2021/indexeh.htm\n",
    "\n",
    "https://www.kaggle.com/datasets/concyclics/chinas-population-by-gender-and-urbanrural?select=Chinas+Population+En.csv\n",
    "\n",
    "https://www.statista.com/statistics/731246/china-structure-of-consumption-expenditure-per-capita/\n",
    "\n",
    "https://www.statista.com/statistics/1088173/china-urbanization-rate-by-region-province/\n",
    "\n",
    "https://data.stats.gov.cn/"
   ]
  }
 ],
 "metadata": {
  "kernelspec": {
   "display_name": "Python 3 (ipykernel)",
   "language": "python",
   "name": "python3"
  },
  "language_info": {
   "codemirror_mode": {
    "name": "ipython",
    "version": 3
   },
   "file_extension": ".py",
   "mimetype": "text/x-python",
   "name": "python",
   "nbconvert_exporter": "python",
   "pygments_lexer": "ipython3",
   "version": "3.9.7"
  }
 },
 "nbformat": 4,
 "nbformat_minor": 5
}
